{
 "cells": [
  {
   "cell_type": "code",
   "execution_count": 1,
   "metadata": {},
   "outputs": [],
   "source": [
    "from py2neo import Graph\n",
    "import pandas as pd"
   ]
  },
  {
   "cell_type": "code",
   "execution_count": 2,
   "metadata": {},
   "outputs": [],
   "source": [
    "graph = Graph(\"bolt://localhost:7687\", auth=(\"neo4j\", \"password\"))"
   ]
  },
  {
   "cell_type": "code",
   "execution_count": 4,
   "metadata": {},
   "outputs": [
    {
     "data": {
      "text/html": [
       "(No data)"
      ],
      "text/plain": [
       "(No data)"
      ]
     },
     "execution_count": 4,
     "metadata": {},
     "output_type": "execute_result"
    }
   ],
   "source": [
    "graph.run(\"MATCH (n) DETACH DELETE n\")"
   ]
  },
  {
   "cell_type": "code",
   "execution_count": 5,
   "metadata": {},
   "outputs": [],
   "source": [
    "from py2neo import Node, Relationship"
   ]
  },
  {
   "cell_type": "code",
   "execution_count": null,
   "metadata": {},
   "outputs": [],
   "source": [
    "kaleigh = Node(\"Person\", name = \"Kaleigh Watson\", coworkers = ['Andy', 'Amanda'])"
   ]
  },
  {
   "cell_type": "code",
   "execution_count": 7,
   "metadata": {},
   "outputs": [
    {
     "data": {
      "text/html": [
       "<div>\n",
       "<style scoped>\n",
       "    .dataframe tbody tr th:only-of-type {\n",
       "        vertical-align: middle;\n",
       "    }\n",
       "\n",
       "    .dataframe tbody tr th {\n",
       "        vertical-align: top;\n",
       "    }\n",
       "\n",
       "    .dataframe thead th {\n",
       "        text-align: right;\n",
       "    }\n",
       "</style>\n",
       "<table border=\"1\" class=\"dataframe\">\n",
       "  <thead>\n",
       "    <tr style=\"text-align: right;\">\n",
       "      <th></th>\n",
       "      <th>Id</th>\n",
       "      <th>first_name</th>\n",
       "      <th>last_name</th>\n",
       "      <th>age</th>\n",
       "      <th>academic_id</th>\n",
       "      <th>employment_id</th>\n",
       "      <th>hobby_id</th>\n",
       "      <th>beef_id</th>\n",
       "      <th>restaurant_id</th>\n",
       "    </tr>\n",
       "  </thead>\n",
       "  <tbody>\n",
       "    <tr>\n",
       "      <th>0</th>\n",
       "      <td>1</td>\n",
       "      <td>Lucy</td>\n",
       "      <td>Shichman</td>\n",
       "      <td>21</td>\n",
       "      <td>1</td>\n",
       "      <td>1</td>\n",
       "      <td>1</td>\n",
       "      <td>a</td>\n",
       "      <td>b</td>\n",
       "    </tr>\n",
       "    <tr>\n",
       "      <th>1</th>\n",
       "      <td>2</td>\n",
       "      <td>Himayat</td>\n",
       "      <td>Azizi</td>\n",
       "      <td>20</td>\n",
       "      <td>3</td>\n",
       "      <td>2</td>\n",
       "      <td>4</td>\n",
       "      <td>b</td>\n",
       "      <td>b</td>\n",
       "    </tr>\n",
       "    <tr>\n",
       "      <th>2</th>\n",
       "      <td>3</td>\n",
       "      <td>John</td>\n",
       "      <td>Le</td>\n",
       "      <td>21</td>\n",
       "      <td>2</td>\n",
       "      <td>4</td>\n",
       "      <td>5</td>\n",
       "      <td>d</td>\n",
       "      <td>c</td>\n",
       "    </tr>\n",
       "    <tr>\n",
       "      <th>3</th>\n",
       "      <td>4</td>\n",
       "      <td>Jay</td>\n",
       "      <td>Peetla</td>\n",
       "      <td>18</td>\n",
       "      <td>4</td>\n",
       "      <td>3</td>\n",
       "      <td>3</td>\n",
       "      <td>c</td>\n",
       "      <td>a</td>\n",
       "    </tr>\n",
       "    <tr>\n",
       "      <th>4</th>\n",
       "      <td>5</td>\n",
       "      <td>Franky</td>\n",
       "      <td>padilla coo</td>\n",
       "      <td>20</td>\n",
       "      <td>5</td>\n",
       "      <td>5</td>\n",
       "      <td>2</td>\n",
       "      <td>c</td>\n",
       "      <td>d</td>\n",
       "    </tr>\n",
       "  </tbody>\n",
       "</table>\n",
       "</div>"
      ],
      "text/plain": [
       "   Id first_name    last_name  age  academic_id  employment_id  hobby_id  \\\n",
       "0   1       Lucy     Shichman   21            1              1         1   \n",
       "1   2    Himayat        Azizi   20            3              2         4   \n",
       "2   3       John           Le   21            2              4         5   \n",
       "3   4        Jay       Peetla   18            4              3         3   \n",
       "4   5     Franky  padilla coo   20            5              5         2   \n",
       "\n",
       "  beef_id restaurant_id  \n",
       "0       a             b  \n",
       "1       b             b  \n",
       "2       d             c  \n",
       "3       c             a  \n",
       "4       c             d  "
      ]
     },
     "execution_count": 7,
     "metadata": {},
     "output_type": "execute_result"
    }
   ],
   "source": [
    "people = pd.read_csv('https://raw.githubusercontent.com/Lucy-Shichman/database-project/main/People.csv')\n",
    "people"
   ]
  },
  {
   "cell_type": "code",
   "execution_count": 13,
   "metadata": {},
   "outputs": [
    {
     "data": {
      "text/plain": [
       "[Node('Person', lastName='Shichman', name='Lucy'),\n",
       " Node('Person', lastName='Azizi', name='Himayat'),\n",
       " Node('Person', lastName='Le', name='John'),\n",
       " Node('Person', lastName='Peetla', name='Jay'),\n",
       " Node('Person', lastName='padilla coo', name='Franky')]"
      ]
     },
     "execution_count": 13,
     "metadata": {},
     "output_type": "execute_result"
    }
   ],
   "source": [
    "peopleNode = []\n",
    "for i in range(len(people)):\n",
    "    row = people.iloc[i]\n",
    "    peopleNode.append(Node(\"Person\",name=row['first_name'],lastName=row['last_name']))\n",
    "    \n",
    "peopleNode"
   ]
  },
  {
   "cell_type": "code",
   "execution_count": 15,
   "metadata": {},
   "outputs": [],
   "source": [
    "for i in range(len(peopleNode)):\n",
    "    graph.create(peopleNode[i])"
   ]
  },
  {
   "cell_type": "code",
   "execution_count": 16,
   "metadata": {},
   "outputs": [
    {
     "data": {
      "text/html": [
       "<div>\n",
       "<style scoped>\n",
       "    .dataframe tbody tr th:only-of-type {\n",
       "        vertical-align: middle;\n",
       "    }\n",
       "\n",
       "    .dataframe tbody tr th {\n",
       "        vertical-align: top;\n",
       "    }\n",
       "\n",
       "    .dataframe thead th {\n",
       "        text-align: right;\n",
       "    }\n",
       "</style>\n",
       "<table border=\"1\" class=\"dataframe\">\n",
       "  <thead>\n",
       "    <tr style=\"text-align: right;\">\n",
       "      <th></th>\n",
       "      <th>hobby_id</th>\n",
       "      <th>hobby1</th>\n",
       "      <th>hobby2</th>\n",
       "      <th>organizations</th>\n",
       "    </tr>\n",
       "  </thead>\n",
       "  <tbody>\n",
       "    <tr>\n",
       "      <th>0</th>\n",
       "      <td>1</td>\n",
       "      <td>Hiking</td>\n",
       "      <td>Rock Climbing</td>\n",
       "      <td>Clay Club</td>\n",
       "    </tr>\n",
       "    <tr>\n",
       "      <th>1</th>\n",
       "      <td>2</td>\n",
       "      <td>flag football</td>\n",
       "      <td>Tennis</td>\n",
       "      <td>OYFA</td>\n",
       "    </tr>\n",
       "    <tr>\n",
       "      <th>2</th>\n",
       "      <td>3</td>\n",
       "      <td>Basketball</td>\n",
       "      <td>Racing</td>\n",
       "      <td>ML Club</td>\n",
       "    </tr>\n",
       "    <tr>\n",
       "      <th>3</th>\n",
       "      <td>4</td>\n",
       "      <td>Basketball</td>\n",
       "      <td>Hiking</td>\n",
       "      <td>DSAC, PCS, MSA</td>\n",
       "    </tr>\n",
       "    <tr>\n",
       "      <th>4</th>\n",
       "      <td>5</td>\n",
       "      <td>Basketball</td>\n",
       "      <td>Photography</td>\n",
       "      <td>VSA</td>\n",
       "    </tr>\n",
       "  </tbody>\n",
       "</table>\n",
       "</div>"
      ],
      "text/plain": [
       "   hobby_id         hobby1         hobby2   organizations\n",
       "0         1         Hiking  Rock Climbing       Clay Club\n",
       "1         2  flag football         Tennis            OYFA\n",
       "2         3     Basketball         Racing         ML Club\n",
       "3         4     Basketball         Hiking  DSAC, PCS, MSA\n",
       "4         5     Basketball    Photography             VSA"
      ]
     },
     "execution_count": 16,
     "metadata": {},
     "output_type": "execute_result"
    }
   ],
   "source": [
    "hobbies = pd.read_csv('https://raw.githubusercontent.com/Lucy-Shichman/database-project/main/Hobbies%20.csv')\n",
    "hobbies"
   ]
  },
  {
   "cell_type": "code",
   "execution_count": 19,
   "metadata": {},
   "outputs": [
    {
     "data": {
      "text/plain": [
       "[Node('Hobby', hobbies=['Hiking', 'Rock Climbing'], organizations='Clay Club'),\n",
       " Node('Hobby', hobbies=['flag football', 'Tennis'], organizations='OYFA'),\n",
       " Node('Hobby', hobbies=['Basketball', 'Racing'], organizations='ML Club'),\n",
       " Node('Hobby', hobbies=['Basketball', 'Hiking'], organizations='DSAC, PCS, MSA'),\n",
       " Node('Hobby', hobbies=['Basketball', 'Photography'], organizations='VSA')]"
      ]
     },
     "execution_count": 19,
     "metadata": {},
     "output_type": "execute_result"
    }
   ],
   "source": [
    "hobbiesNode = []\n",
    "for i in range(len(hobbies)):\n",
    "    row = hobbies.iloc[i]\n",
    "    hobbiesNode.append(Node(\"Hobby\",hobbies = [row['hobby1'], row['hobby2']],organizations=row['organizations']))\n",
    "    \n",
    "hobbiesNode"
   ]
  },
  {
   "cell_type": "code",
   "execution_count": 20,
   "metadata": {},
   "outputs": [],
   "source": [
    "for i in range(len(hobbiesNode)):\n",
    "    graph.create(hobbiesNode[i])"
   ]
  },
  {
   "cell_type": "code",
   "execution_count": 21,
   "metadata": {},
   "outputs": [],
   "source": [
    "IsIn = Relationship.type(\"IS_IN\")"
   ]
  },
  {
   "cell_type": "code",
   "execution_count": 23,
   "metadata": {},
   "outputs": [],
   "source": [
    "for i in range(len(peopleNode)):\n",
    "    graph.create(IsIn(peopleNode[i],hobbiesNode[i]))"
   ]
  },
  {
   "cell_type": "code",
   "execution_count": 24,
   "metadata": {},
   "outputs": [
    {
     "data": {
      "text/html": [
       "<div>\n",
       "<style scoped>\n",
       "    .dataframe tbody tr th:only-of-type {\n",
       "        vertical-align: middle;\n",
       "    }\n",
       "\n",
       "    .dataframe tbody tr th {\n",
       "        vertical-align: top;\n",
       "    }\n",
       "\n",
       "    .dataframe thead th {\n",
       "        text-align: right;\n",
       "    }\n",
       "</style>\n",
       "<table border=\"1\" class=\"dataframe\">\n",
       "  <thead>\n",
       "    <tr style=\"text-align: right;\">\n",
       "      <th></th>\n",
       "      <th>employment_id</th>\n",
       "      <th>company</th>\n",
       "      <th>city</th>\n",
       "      <th>role</th>\n",
       "    </tr>\n",
       "  </thead>\n",
       "  <tbody>\n",
       "    <tr>\n",
       "      <th>0</th>\n",
       "      <td>1</td>\n",
       "      <td>FGH</td>\n",
       "      <td>DC</td>\n",
       "      <td>Analyst</td>\n",
       "    </tr>\n",
       "    <tr>\n",
       "      <th>1</th>\n",
       "      <td>2</td>\n",
       "      <td>Teaching Lab</td>\n",
       "      <td>NaN</td>\n",
       "      <td>Data Scientist</td>\n",
       "    </tr>\n",
       "    <tr>\n",
       "      <th>2</th>\n",
       "      <td>3</td>\n",
       "      <td>ENSCO</td>\n",
       "      <td>Richmond</td>\n",
       "      <td>Data Scientist</td>\n",
       "    </tr>\n",
       "    <tr>\n",
       "      <th>3</th>\n",
       "      <td>4</td>\n",
       "      <td>Premise</td>\n",
       "      <td>DC</td>\n",
       "      <td>Data Scientist</td>\n",
       "    </tr>\n",
       "    <tr>\n",
       "      <th>4</th>\n",
       "      <td>5</td>\n",
       "      <td>IT Concepts</td>\n",
       "      <td>Vienna</td>\n",
       "      <td>Data Scientist</td>\n",
       "    </tr>\n",
       "  </tbody>\n",
       "</table>\n",
       "</div>"
      ],
      "text/plain": [
       "   employment_id       company      city            role\n",
       "0              1           FGH        DC         Analyst\n",
       "1              2  Teaching Lab       NaN  Data Scientist\n",
       "2              3         ENSCO  Richmond  Data Scientist\n",
       "3              4       Premise        DC  Data Scientist\n",
       "4              5   IT Concepts    Vienna  Data Scientist"
      ]
     },
     "execution_count": 24,
     "metadata": {},
     "output_type": "execute_result"
    }
   ],
   "source": [
    "employment = pd.read_csv('https://raw.githubusercontent.com/Lucy-Shichman/database-project/main/Employment.csv')\n",
    "employment"
   ]
  },
  {
   "cell_type": "code",
   "execution_count": 25,
   "metadata": {},
   "outputs": [
    {
     "data": {
      "text/plain": [
       "[Node('Employment', city='DC', company='FGH', role='Analyst'),\n",
       " Node('Employment', city='', company='Teaching Lab', role='Data Scientist'),\n",
       " Node('Employment', city='Richmond', company='ENSCO', role='Data Scientist'),\n",
       " Node('Employment', city='DC', company='Premise', role='Data Scientist'),\n",
       " Node('Employment', city='Vienna', company='IT Concepts', role='Data Scientist')]"
      ]
     },
     "execution_count": 25,
     "metadata": {},
     "output_type": "execute_result"
    }
   ],
   "source": [
    "employment.fillna('',inplace=True)\n",
    "employmentNode = []\n",
    "for i in range(len(employment)):\n",
    "    row = employment.iloc[i]\n",
    "    employmentNode.append(Node(\"Employment\",company=row['company'],city=row['city'],role=row['role']))\n",
    "    \n",
    "employmentNode"
   ]
  },
  {
   "cell_type": "code",
   "execution_count": 26,
   "metadata": {},
   "outputs": [],
   "source": [
    "WorksFor = Relationship.type(\"WORKS_FOR\")"
   ]
  },
  {
   "cell_type": "code",
   "execution_count": null,
   "metadata": {},
   "outputs": [],
   "source": []
  }
 ],
 "metadata": {
  "kernelspec": {
   "display_name": "Python 3",
   "language": "python",
   "name": "python3"
  },
  "language_info": {
   "codemirror_mode": {
    "name": "ipython",
    "version": 3
   },
   "file_extension": ".py",
   "mimetype": "text/x-python",
   "name": "python",
   "nbconvert_exporter": "python",
   "pygments_lexer": "ipython3",
   "version": "3.8.8"
  }
 },
 "nbformat": 4,
 "nbformat_minor": 4
}
