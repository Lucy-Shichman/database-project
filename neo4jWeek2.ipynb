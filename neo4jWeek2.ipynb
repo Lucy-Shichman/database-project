{
 "cells": [
  {
   "cell_type": "code",
   "execution_count": 1,
   "metadata": {},
   "outputs": [],
   "source": [
    "from py2neo import Graph\n",
    "import pandas as pd"
   ]
  },
  {
   "cell_type": "code",
   "execution_count": 2,
   "metadata": {},
   "outputs": [],
   "source": [
    "graph = Graph(\"bolt://localhost:7687\", auth=(\"neo4j\", \"password\"))"
   ]
  },
  {
   "cell_type": "code",
   "execution_count": 3,
   "metadata": {},
   "outputs": [
    {
     "data": {
      "text/html": [
       "(No data)"
      ],
      "text/plain": [
       "(No data)"
      ]
     },
     "execution_count": 3,
     "metadata": {},
     "output_type": "execute_result"
    }
   ],
   "source": [
    "graph.run(\"MATCH (n) DETACH DELETE n\")"
   ]
  },
  {
   "cell_type": "code",
   "execution_count": 4,
   "metadata": {},
   "outputs": [],
   "source": [
    "from py2neo import Node, Relationship"
   ]
  },
  {
   "cell_type": "code",
   "execution_count": 5,
   "metadata": {},
   "outputs": [
    {
     "data": {
      "text/html": [
       "<div>\n",
       "<style scoped>\n",
       "    .dataframe tbody tr th:only-of-type {\n",
       "        vertical-align: middle;\n",
       "    }\n",
       "\n",
       "    .dataframe tbody tr th {\n",
       "        vertical-align: top;\n",
       "    }\n",
       "\n",
       "    .dataframe thead th {\n",
       "        text-align: right;\n",
       "    }\n",
       "</style>\n",
       "<table border=\"1\" class=\"dataframe\">\n",
       "  <thead>\n",
       "    <tr style=\"text-align: right;\">\n",
       "      <th></th>\n",
       "      <th>Id</th>\n",
       "      <th>first_name</th>\n",
       "      <th>last_name</th>\n",
       "      <th>age</th>\n",
       "      <th>academic_id</th>\n",
       "      <th>employment_id</th>\n",
       "      <th>hobby_id</th>\n",
       "      <th>beef_id</th>\n",
       "      <th>restaurant_id</th>\n",
       "    </tr>\n",
       "  </thead>\n",
       "  <tbody>\n",
       "    <tr>\n",
       "      <th>0</th>\n",
       "      <td>1</td>\n",
       "      <td>Lucy</td>\n",
       "      <td>Shichman</td>\n",
       "      <td>21</td>\n",
       "      <td>1</td>\n",
       "      <td>1</td>\n",
       "      <td>1</td>\n",
       "      <td>a</td>\n",
       "      <td>b</td>\n",
       "    </tr>\n",
       "    <tr>\n",
       "      <th>1</th>\n",
       "      <td>2</td>\n",
       "      <td>Himayat</td>\n",
       "      <td>Azizi</td>\n",
       "      <td>20</td>\n",
       "      <td>3</td>\n",
       "      <td>2</td>\n",
       "      <td>4</td>\n",
       "      <td>b</td>\n",
       "      <td>b</td>\n",
       "    </tr>\n",
       "    <tr>\n",
       "      <th>2</th>\n",
       "      <td>3</td>\n",
       "      <td>John</td>\n",
       "      <td>Le</td>\n",
       "      <td>21</td>\n",
       "      <td>2</td>\n",
       "      <td>4</td>\n",
       "      <td>5</td>\n",
       "      <td>d</td>\n",
       "      <td>c</td>\n",
       "    </tr>\n",
       "    <tr>\n",
       "      <th>3</th>\n",
       "      <td>4</td>\n",
       "      <td>Jay</td>\n",
       "      <td>Peetla</td>\n",
       "      <td>18</td>\n",
       "      <td>4</td>\n",
       "      <td>3</td>\n",
       "      <td>3</td>\n",
       "      <td>c</td>\n",
       "      <td>a</td>\n",
       "    </tr>\n",
       "    <tr>\n",
       "      <th>4</th>\n",
       "      <td>5</td>\n",
       "      <td>Franky</td>\n",
       "      <td>padilla coo</td>\n",
       "      <td>20</td>\n",
       "      <td>5</td>\n",
       "      <td>5</td>\n",
       "      <td>2</td>\n",
       "      <td>c</td>\n",
       "      <td>d</td>\n",
       "    </tr>\n",
       "  </tbody>\n",
       "</table>\n",
       "</div>"
      ],
      "text/plain": [
       "   Id first_name    last_name  age  academic_id  employment_id  hobby_id  \\\n",
       "0   1       Lucy     Shichman   21            1              1         1   \n",
       "1   2    Himayat        Azizi   20            3              2         4   \n",
       "2   3       John           Le   21            2              4         5   \n",
       "3   4        Jay       Peetla   18            4              3         3   \n",
       "4   5     Franky  padilla coo   20            5              5         2   \n",
       "\n",
       "  beef_id restaurant_id  \n",
       "0       a             b  \n",
       "1       b             b  \n",
       "2       d             c  \n",
       "3       c             a  \n",
       "4       c             d  "
      ]
     },
     "execution_count": 5,
     "metadata": {},
     "output_type": "execute_result"
    }
   ],
   "source": [
    "people = pd.read_csv('https://raw.githubusercontent.com/Lucy-Shichman/database-project/main/People.csv')\n",
    "people"
   ]
  },
  {
   "cell_type": "code",
   "execution_count": 6,
   "metadata": {},
   "outputs": [
    {
     "data": {
      "text/plain": [
       "[Node('Person', lastName='Shichman', name='Lucy'),\n",
       " Node('Person', lastName='Azizi', name='Himayat'),\n",
       " Node('Person', lastName='Le', name='John'),\n",
       " Node('Person', lastName='Peetla', name='Jay'),\n",
       " Node('Person', lastName='padilla coo', name='Franky')]"
      ]
     },
     "execution_count": 6,
     "metadata": {},
     "output_type": "execute_result"
    }
   ],
   "source": [
    "peopleNode = []\n",
    "for i in range(len(people)):\n",
    "    row = people.iloc[i]\n",
    "    peopleNode.append(Node(\"Person\",name=row['first_name'],lastName=row['last_name']))\n",
    "    \n",
    "peopleNode"
   ]
  },
  {
   "cell_type": "code",
   "execution_count": 7,
   "metadata": {},
   "outputs": [],
   "source": [
    "for i in range(len(peopleNode)):\n",
    "    graph.create(peopleNode[i])"
   ]
  },
  {
   "cell_type": "code",
   "execution_count": 8,
   "metadata": {},
   "outputs": [
    {
     "data": {
      "text/html": [
       "<div>\n",
       "<style scoped>\n",
       "    .dataframe tbody tr th:only-of-type {\n",
       "        vertical-align: middle;\n",
       "    }\n",
       "\n",
       "    .dataframe tbody tr th {\n",
       "        vertical-align: top;\n",
       "    }\n",
       "\n",
       "    .dataframe thead th {\n",
       "        text-align: right;\n",
       "    }\n",
       "</style>\n",
       "<table border=\"1\" class=\"dataframe\">\n",
       "  <thead>\n",
       "    <tr style=\"text-align: right;\">\n",
       "      <th></th>\n",
       "      <th>hobby_id</th>\n",
       "      <th>hobby1</th>\n",
       "      <th>hobby2</th>\n",
       "      <th>organizations</th>\n",
       "    </tr>\n",
       "  </thead>\n",
       "  <tbody>\n",
       "    <tr>\n",
       "      <th>0</th>\n",
       "      <td>1</td>\n",
       "      <td>Hiking</td>\n",
       "      <td>Rock Climbing</td>\n",
       "      <td>Clay Club</td>\n",
       "    </tr>\n",
       "    <tr>\n",
       "      <th>1</th>\n",
       "      <td>2</td>\n",
       "      <td>flag football</td>\n",
       "      <td>Tennis</td>\n",
       "      <td>OYFA</td>\n",
       "    </tr>\n",
       "    <tr>\n",
       "      <th>2</th>\n",
       "      <td>3</td>\n",
       "      <td>Basketball</td>\n",
       "      <td>Racing</td>\n",
       "      <td>ML Club</td>\n",
       "    </tr>\n",
       "    <tr>\n",
       "      <th>3</th>\n",
       "      <td>4</td>\n",
       "      <td>Basketball</td>\n",
       "      <td>Hiking</td>\n",
       "      <td>DSAC, PCS, MSA</td>\n",
       "    </tr>\n",
       "    <tr>\n",
       "      <th>4</th>\n",
       "      <td>5</td>\n",
       "      <td>Basketball</td>\n",
       "      <td>Photography</td>\n",
       "      <td>VSA</td>\n",
       "    </tr>\n",
       "  </tbody>\n",
       "</table>\n",
       "</div>"
      ],
      "text/plain": [
       "   hobby_id         hobby1         hobby2   organizations\n",
       "0         1         Hiking  Rock Climbing       Clay Club\n",
       "1         2  flag football         Tennis            OYFA\n",
       "2         3     Basketball         Racing         ML Club\n",
       "3         4     Basketball         Hiking  DSAC, PCS, MSA\n",
       "4         5     Basketball    Photography             VSA"
      ]
     },
     "execution_count": 8,
     "metadata": {},
     "output_type": "execute_result"
    }
   ],
   "source": [
    "hobbiesCSV = pd.read_csv('https://raw.githubusercontent.com/Lucy-Shichman/database-project/main/Hobbies%20.csv')\n",
    "hobbiesCSV"
   ]
  },
  {
   "cell_type": "code",
   "execution_count": 9,
   "metadata": {},
   "outputs": [
    {
     "data": {
      "text/plain": [
       "['Tennis',\n",
       " 'Racing',\n",
       " 'Photography',\n",
       " 'Hiking',\n",
       " 'flag football',\n",
       " 'Basketball',\n",
       " 'Rock Climbing']"
      ]
     },
     "execution_count": 9,
     "metadata": {},
     "output_type": "execute_result"
    }
   ],
   "source": [
    "hobby1 = list(hobbiesCSV.hobby1.unique())\n",
    "hobby2 = list(hobbiesCSV.hobby2.unique())\n",
    "\n",
    "hobbies = list(set(hobby1 + hobby2))\n",
    "hobbies"
   ]
  },
  {
   "cell_type": "code",
   "execution_count": 10,
   "metadata": {},
   "outputs": [
    {
     "data": {
      "text/plain": [
       "{'Tennis': Node('Hobby', name='Tennis'),\n",
       " 'Racing': Node('Hobby', name='Racing'),\n",
       " 'Photography': Node('Hobby', name='Photography'),\n",
       " 'Hiking': Node('Hobby', name='Hiking'),\n",
       " 'flag football': Node('Hobby', name='flag football'),\n",
       " 'Basketball': Node('Hobby', name='Basketball'),\n",
       " 'Rock Climbing': Node('Hobby', name='Rock Climbing')}"
      ]
     },
     "execution_count": 10,
     "metadata": {},
     "output_type": "execute_result"
    }
   ],
   "source": [
    "hobbiesNode = {}\n",
    "for i in range(len(hobbies)):\n",
    "    hobbiesNode[hobbies[i]] = Node(\"Hobby\",name=hobbies[i])\n",
    "    \n",
    "hobbiesNode"
   ]
  },
  {
   "cell_type": "code",
   "execution_count": 11,
   "metadata": {},
   "outputs": [],
   "source": [
    "Does = Relationship.type('DOES')"
   ]
  },
  {
   "cell_type": "code",
   "execution_count": 12,
   "metadata": {},
   "outputs": [],
   "source": [
    "for i in range(len(people)):\n",
    "    idNum = people['hobby_id'][i]\n",
    "    hobby1Temp = hobbiesCSV.loc[hobbiesCSV['hobby_id'] == idNum]['hobby1'].iloc[0]\n",
    "    hobby2Temp = hobbiesCSV.loc[hobbiesCSV['hobby_id'] == idNum]['hobby2'].iloc[0]\n",
    "    graph.create(Does(peopleNode[i],hobbiesNode[hobby1Temp]))\n",
    "    graph.create(Does(peopleNode[i],hobbiesNode[hobby2Temp]))"
   ]
  },
  {
   "cell_type": "code",
   "execution_count": 13,
   "metadata": {},
   "outputs": [
    {
     "data": {
      "text/html": [
       "<div>\n",
       "<style scoped>\n",
       "    .dataframe tbody tr th:only-of-type {\n",
       "        vertical-align: middle;\n",
       "    }\n",
       "\n",
       "    .dataframe tbody tr th {\n",
       "        vertical-align: top;\n",
       "    }\n",
       "\n",
       "    .dataframe thead th {\n",
       "        text-align: right;\n",
       "    }\n",
       "</style>\n",
       "<table border=\"1\" class=\"dataframe\">\n",
       "  <thead>\n",
       "    <tr style=\"text-align: right;\">\n",
       "      <th></th>\n",
       "      <th>employment_id</th>\n",
       "      <th>company</th>\n",
       "      <th>city</th>\n",
       "      <th>role</th>\n",
       "    </tr>\n",
       "  </thead>\n",
       "  <tbody>\n",
       "    <tr>\n",
       "      <th>0</th>\n",
       "      <td>1</td>\n",
       "      <td>FGH</td>\n",
       "      <td>DC</td>\n",
       "      <td>Analyst</td>\n",
       "    </tr>\n",
       "    <tr>\n",
       "      <th>1</th>\n",
       "      <td>2</td>\n",
       "      <td>Teaching Lab</td>\n",
       "      <td>NaN</td>\n",
       "      <td>Data Scientist</td>\n",
       "    </tr>\n",
       "    <tr>\n",
       "      <th>2</th>\n",
       "      <td>3</td>\n",
       "      <td>ENSCO</td>\n",
       "      <td>Richmond</td>\n",
       "      <td>Data Scientist</td>\n",
       "    </tr>\n",
       "    <tr>\n",
       "      <th>3</th>\n",
       "      <td>4</td>\n",
       "      <td>Premise</td>\n",
       "      <td>DC</td>\n",
       "      <td>Data Scientist</td>\n",
       "    </tr>\n",
       "    <tr>\n",
       "      <th>4</th>\n",
       "      <td>5</td>\n",
       "      <td>IT Concepts</td>\n",
       "      <td>Vienna</td>\n",
       "      <td>Data Scientist</td>\n",
       "    </tr>\n",
       "  </tbody>\n",
       "</table>\n",
       "</div>"
      ],
      "text/plain": [
       "   employment_id       company      city            role\n",
       "0              1           FGH        DC         Analyst\n",
       "1              2  Teaching Lab       NaN  Data Scientist\n",
       "2              3         ENSCO  Richmond  Data Scientist\n",
       "3              4       Premise        DC  Data Scientist\n",
       "4              5   IT Concepts    Vienna  Data Scientist"
      ]
     },
     "execution_count": 13,
     "metadata": {},
     "output_type": "execute_result"
    }
   ],
   "source": [
    "employment = pd.read_csv('https://raw.githubusercontent.com/Lucy-Shichman/database-project/main/Employment.csv')\n",
    "employment"
   ]
  },
  {
   "cell_type": "code",
   "execution_count": 14,
   "metadata": {},
   "outputs": [
    {
     "data": {
      "text/plain": [
       "[Node('Employment', city='DC', company='FGH', role='Analyst'),\n",
       " Node('Employment', city='', company='Teaching Lab', role='Data Scientist'),\n",
       " Node('Employment', city='Richmond', company='ENSCO', role='Data Scientist'),\n",
       " Node('Employment', city='DC', company='Premise', role='Data Scientist'),\n",
       " Node('Employment', city='Vienna', company='IT Concepts', role='Data Scientist')]"
      ]
     },
     "execution_count": 14,
     "metadata": {},
     "output_type": "execute_result"
    }
   ],
   "source": [
    "employment.fillna('',inplace=True)\n",
    "employmentNode = []\n",
    "for i in range(len(employment)):\n",
    "    row = employment.iloc[i]\n",
    "    employmentNode.append(Node(\"Employment\",company=row['company'],city=row['city'],role=row['role']))\n",
    "    \n",
    "employmentNode"
   ]
  },
  {
   "cell_type": "code",
   "execution_count": 15,
   "metadata": {},
   "outputs": [],
   "source": [
    "WorksFor = Relationship.type(\"WORKS_FOR\")"
   ]
  },
  {
   "cell_type": "code",
   "execution_count": 16,
   "metadata": {},
   "outputs": [],
   "source": [
    "for i in range(len(peopleNode)):\n",
    "    graph.create(WorksFor(peopleNode[i],employmentNode[i]))"
   ]
  },
  {
   "cell_type": "code",
   "execution_count": 17,
   "metadata": {},
   "outputs": [
    {
     "data": {
      "text/html": [
       "<div>\n",
       "<style scoped>\n",
       "    .dataframe tbody tr th:only-of-type {\n",
       "        vertical-align: middle;\n",
       "    }\n",
       "\n",
       "    .dataframe tbody tr th {\n",
       "        vertical-align: top;\n",
       "    }\n",
       "\n",
       "    .dataframe thead th {\n",
       "        text-align: right;\n",
       "    }\n",
       "</style>\n",
       "<table border=\"1\" class=\"dataframe\">\n",
       "  <thead>\n",
       "    <tr style=\"text-align: right;\">\n",
       "      <th></th>\n",
       "      <th>academic_id</th>\n",
       "      <th>major</th>\n",
       "      <th>university</th>\n",
       "      <th>school</th>\n",
       "      <th>minor_existence</th>\n",
       "      <th>minor_name</th>\n",
       "    </tr>\n",
       "  </thead>\n",
       "  <tbody>\n",
       "    <tr>\n",
       "      <th>0</th>\n",
       "      <td>1</td>\n",
       "      <td>Biology</td>\n",
       "      <td>UVA</td>\n",
       "      <td>CAS</td>\n",
       "      <td>True</td>\n",
       "      <td>ds</td>\n",
       "    </tr>\n",
       "    <tr>\n",
       "      <th>1</th>\n",
       "      <td>2</td>\n",
       "      <td>Econ</td>\n",
       "      <td>UVA</td>\n",
       "      <td>CAS</td>\n",
       "      <td>True</td>\n",
       "      <td>ds</td>\n",
       "    </tr>\n",
       "    <tr>\n",
       "      <th>2</th>\n",
       "      <td>3</td>\n",
       "      <td>CS</td>\n",
       "      <td>UVA</td>\n",
       "      <td>CAS</td>\n",
       "      <td>True</td>\n",
       "      <td>ds</td>\n",
       "    </tr>\n",
       "    <tr>\n",
       "      <th>3</th>\n",
       "      <td>4</td>\n",
       "      <td>CS</td>\n",
       "      <td>UVA</td>\n",
       "      <td>Engineering</td>\n",
       "      <td>False</td>\n",
       "      <td>NaN</td>\n",
       "    </tr>\n",
       "    <tr>\n",
       "      <th>4</th>\n",
       "      <td>5</td>\n",
       "      <td>CS</td>\n",
       "      <td>UVA</td>\n",
       "      <td>Engineering</td>\n",
       "      <td>True</td>\n",
       "      <td>ds</td>\n",
       "    </tr>\n",
       "  </tbody>\n",
       "</table>\n",
       "</div>"
      ],
      "text/plain": [
       "   academic_id    major university       school  minor_existence minor_name\n",
       "0            1  Biology        UVA          CAS             True         ds\n",
       "1            2     Econ        UVA          CAS             True         ds\n",
       "2            3       CS        UVA          CAS             True         ds\n",
       "3            4       CS        UVA  Engineering            False        NaN\n",
       "4            5       CS        UVA  Engineering             True         ds"
      ]
     },
     "execution_count": 17,
     "metadata": {},
     "output_type": "execute_result"
    }
   ],
   "source": [
    "academics = pd.read_csv('https://raw.githubusercontent.com/Lucy-Shichman/database-project/main/Academics.csv')\n",
    "\n",
    "major = academics.major.unique()\n",
    "school = academics.school.unique()\n",
    "minor_name = academics.school.unique()\n",
    "\n",
    "academics"
   ]
  },
  {
   "cell_type": "code",
   "execution_count": 18,
   "metadata": {},
   "outputs": [
    {
     "data": {
      "text/plain": [
       "{'Biology': Node('Major', major='Biology'),\n",
       " 'Econ': Node('Major', major='Econ'),\n",
       " 'CS': Node('Major', major='CS')}"
      ]
     },
     "execution_count": 18,
     "metadata": {},
     "output_type": "execute_result"
    }
   ],
   "source": [
    "academics.fillna('', inplace=True)\n",
    "academicsNode = {}\n",
    "academicsNode2 = {}\n",
    "for i in range(len(academics)):\n",
    "    row = academics.iloc[i]\n",
    "    academicsNode[row['major']] = Node(\"Major\",major=row['major'])\n",
    "    academicsNode2[row['school']] = Node(\"School\",school=row['school'])\n",
    "    \n",
    "academicsNode"
   ]
  },
  {
   "cell_type": "code",
   "execution_count": 19,
   "metadata": {},
   "outputs": [],
   "source": [
    "studies = Relationship.type(\"STUDIES\")"
   ]
  },
  {
   "cell_type": "code",
   "execution_count": 20,
   "metadata": {},
   "outputs": [],
   "source": [
    "for i in range(len(people)):\n",
    "    idNum = people['academic_id'][i]\n",
    "    majorTemp = academics.loc[academics['academic_id'] == idNum]['major'].iloc[0]\n",
    "    schoolTemp = academics.loc[academics['academic_id'] == idNum]['school'].iloc[0]\n",
    "    graph.create(studies(peopleNode[i],academicsNode[majorTemp]))\n",
    "    graph.create(studies(peopleNode[i],academicsNode2[schoolTemp]))"
   ]
  },
  {
   "cell_type": "code",
   "execution_count": 21,
   "metadata": {},
   "outputs": [
    {
     "data": {
      "text/html": [
       "<div>\n",
       "<style scoped>\n",
       "    .dataframe tbody tr th:only-of-type {\n",
       "        vertical-align: middle;\n",
       "    }\n",
       "\n",
       "    .dataframe tbody tr th {\n",
       "        vertical-align: top;\n",
       "    }\n",
       "\n",
       "    .dataframe thead th {\n",
       "        text-align: right;\n",
       "    }\n",
       "</style>\n",
       "<table border=\"1\" class=\"dataframe\">\n",
       "  <thead>\n",
       "    <tr style=\"text-align: right;\">\n",
       "      <th></th>\n",
       "      <th>restaurant_id</th>\n",
       "      <th>name</th>\n",
       "      <th>location</th>\n",
       "      <th>type</th>\n",
       "    </tr>\n",
       "  </thead>\n",
       "  <tbody>\n",
       "    <tr>\n",
       "      <th>0</th>\n",
       "      <td>a</td>\n",
       "      <td>Chipotle</td>\n",
       "      <td>Barracks</td>\n",
       "      <td>Fast Food</td>\n",
       "    </tr>\n",
       "    <tr>\n",
       "      <th>1</th>\n",
       "      <td>b</td>\n",
       "      <td>Wendy's</td>\n",
       "      <td>Charlottesville</td>\n",
       "      <td>Fast Food</td>\n",
       "    </tr>\n",
       "    <tr>\n",
       "      <th>2</th>\n",
       "      <td>c</td>\n",
       "      <td>Taco Bell</td>\n",
       "      <td>Emmet St</td>\n",
       "      <td>Fast Food</td>\n",
       "    </tr>\n",
       "    <tr>\n",
       "      <th>3</th>\n",
       "      <td>d</td>\n",
       "      <td>Cook Out</td>\n",
       "      <td>Charlottesville</td>\n",
       "      <td>Fancy</td>\n",
       "    </tr>\n",
       "    <tr>\n",
       "      <th>4</th>\n",
       "      <td>e</td>\n",
       "      <td>Asados</td>\n",
       "      <td>Charlottesville</td>\n",
       "      <td>Fancy Shmancy</td>\n",
       "    </tr>\n",
       "  </tbody>\n",
       "</table>\n",
       "</div>"
      ],
      "text/plain": [
       "  restaurant_id       name         location           type\n",
       "0             a   Chipotle         Barracks      Fast Food\n",
       "1             b    Wendy's  Charlottesville      Fast Food\n",
       "2             c  Taco Bell         Emmet St      Fast Food\n",
       "3             d   Cook Out  Charlottesville          Fancy\n",
       "4             e     Asados  Charlottesville  Fancy Shmancy"
      ]
     },
     "execution_count": 21,
     "metadata": {},
     "output_type": "execute_result"
    }
   ],
   "source": [
    "restaurants = pd.read_csv('https://raw.githubusercontent.com/Lucy-Shichman/database-project/main/restaurant.csv')\n",
    "restaurants"
   ]
  },
  {
   "cell_type": "code",
   "execution_count": 22,
   "metadata": {},
   "outputs": [
    {
     "data": {
      "text/plain": [
       "{'Chipotle': Node('restaurant', name='Chipotle'),\n",
       " 'Wendys': Node('restaurant', name='Wendys'),\n",
       " 'Taco Bell': Node('restaurant', name='Taco Bell'),\n",
       " 'Cook Out': Node('restaurant', name='Cook Out'),\n",
       " 'Asados': Node('restaurant', name='Asados')}"
      ]
     },
     "execution_count": 22,
     "metadata": {},
     "output_type": "execute_result"
    }
   ],
   "source": [
    "restaurants[\"name\"][1] = 'Wendys'\n",
    "restaurantsNode = {}\n",
    "for i in range(len(restaurants)):\n",
    "    row = restaurants.iloc[i]\n",
    "    restaurantsNode[row['name']] = Node(\"restaurant\",name=row['name'])\n",
    "\n",
    "restaurantsNode"
   ]
  },
  {
   "cell_type": "code",
   "execution_count": 23,
   "metadata": {},
   "outputs": [],
   "source": [
    "Hates = Relationship.type('HATES')"
   ]
  },
  {
   "cell_type": "code",
   "execution_count": 24,
   "metadata": {},
   "outputs": [],
   "source": [
    "for i in range(len(people)):\n",
    "    idNum = people['restaurant_id'][i]\n",
    "    restaurantTemp = restaurants.loc[restaurants['restaurant_id'] == idNum]['name'].iloc[0]\n",
    "    graph.create(Hates(peopleNode[i],restaurantsNode[restaurantTemp]))"
   ]
  },
  {
   "cell_type": "code",
   "execution_count": 25,
   "metadata": {},
   "outputs": [
    {
     "data": {
      "text/html": [
       "<div>\n",
       "<style scoped>\n",
       "    .dataframe tbody tr th:only-of-type {\n",
       "        vertical-align: middle;\n",
       "    }\n",
       "\n",
       "    .dataframe tbody tr th {\n",
       "        vertical-align: top;\n",
       "    }\n",
       "\n",
       "    .dataframe thead th {\n",
       "        text-align: right;\n",
       "    }\n",
       "</style>\n",
       "<table border=\"1\" class=\"dataframe\">\n",
       "  <thead>\n",
       "    <tr style=\"text-align: right;\">\n",
       "      <th></th>\n",
       "      <th>beef_id</th>\n",
       "      <th>beef_with</th>\n",
       "      <th>why_beef</th>\n",
       "      <th>friends_with</th>\n",
       "      <th>why_friends</th>\n",
       "    </tr>\n",
       "  </thead>\n",
       "  <tbody>\n",
       "    <tr>\n",
       "      <th>0</th>\n",
       "      <td>a</td>\n",
       "      <td>Franky</td>\n",
       "      <td>drinks dasani</td>\n",
       "      <td>no one</td>\n",
       "      <td>watches stranger things</td>\n",
       "    </tr>\n",
       "    <tr>\n",
       "      <th>1</th>\n",
       "      <td>b</td>\n",
       "      <td>Lucy</td>\n",
       "      <td>doesn't mix chipotle bowl</td>\n",
       "      <td>Jay</td>\n",
       "      <td>likes chipotle</td>\n",
       "    </tr>\n",
       "    <tr>\n",
       "      <th>2</th>\n",
       "      <td>c</td>\n",
       "      <td>Jay</td>\n",
       "      <td>doesn't use turn signals</td>\n",
       "      <td>himayatullah</td>\n",
       "      <td>cool guy</td>\n",
       "    </tr>\n",
       "    <tr>\n",
       "      <th>3</th>\n",
       "      <td>d</td>\n",
       "      <td>John</td>\n",
       "      <td>loves the smell of stink</td>\n",
       "      <td>lucy</td>\n",
       "      <td>loves pineapple on pizza</td>\n",
       "    </tr>\n",
       "  </tbody>\n",
       "</table>\n",
       "</div>"
      ],
      "text/plain": [
       "  beef_id beef_with                   why_beef  friends_with  \\\n",
       "0       a    Franky              drinks dasani        no one   \n",
       "1       b      Lucy  doesn't mix chipotle bowl           Jay   \n",
       "2       c       Jay   doesn't use turn signals  himayatullah   \n",
       "3       d      John   loves the smell of stink          lucy   \n",
       "\n",
       "                why_friends  \n",
       "0   watches stranger things  \n",
       "1            likes chipotle  \n",
       "2                  cool guy  \n",
       "3  loves pineapple on pizza  "
      ]
     },
     "execution_count": 25,
     "metadata": {},
     "output_type": "execute_result"
    }
   ],
   "source": [
    "beef = pd.read_csv('https://raw.githubusercontent.com/Lucy-Shichman/database-project/main/Beef.csv')\n",
    "beef"
   ]
  },
  {
   "cell_type": "code",
   "execution_count": 26,
   "metadata": {},
   "outputs": [
    {
     "data": {
      "text/plain": [
       "{'Lucy': Node('Person', lastName='Shichman', name='Lucy'),\n",
       " 'Himayat': Node('Person', lastName='Azizi', name='Himayat'),\n",
       " 'John': Node('Person', lastName='Le', name='John'),\n",
       " 'Jay': Node('Person', lastName='Peetla', name='Jay'),\n",
       " 'Franky': Node('Person', lastName='padilla coo', name='Franky')}"
      ]
     },
     "execution_count": 26,
     "metadata": {},
     "output_type": "execute_result"
    }
   ],
   "source": [
    "peopleNodes = {}\n",
    "for i in range(len(people)):\n",
    "    row = people.iloc[i]\n",
    "    peopleNodes[row['first_name']] = peopleNode[i]\n",
    "    \n",
    "peopleNodes"
   ]
  },
  {
   "cell_type": "code",
   "execution_count": 27,
   "metadata": {},
   "outputs": [
    {
     "data": {
      "text/plain": [
       "{'a': Node('Person', lastName='padilla coo', name='Franky'),\n",
       " 'b': Node('Person', lastName='Shichman', name='Lucy'),\n",
       " 'c': Node('Person', lastName='Peetla', name='Jay'),\n",
       " 'd': Node('Person', lastName='Le', name='John')}"
      ]
     },
     "execution_count": 27,
     "metadata": {},
     "output_type": "execute_result"
    }
   ],
   "source": [
    "beef['friends_with'][0] = ''\n",
    "\n",
    "beefNode = {}\n",
    "for i in range(len(beef)):\n",
    "    row = beef.iloc[i]\n",
    "    beefNode[row['beef_id']] = peopleNodes[row['beef_with']]\n",
    "\n",
    "beefNode"
   ]
  },
  {
   "cell_type": "code",
   "execution_count": 28,
   "metadata": {},
   "outputs": [],
   "source": [
    "HasBeefWith = Relationship.type('HAS_BEEF_WITH')\n",
    "FriendsWith = Relationship.type('IS_FRIENDS_WITH')"
   ]
  },
  {
   "cell_type": "code",
   "execution_count": 29,
   "metadata": {},
   "outputs": [],
   "source": [
    "for i in range(len(people)):\n",
    "    idNum = people['beef_id'][i]\n",
    "    beefTemp = beef.loc[beef['beef_id'] == idNum]['beef_id'].iloc[0]\n",
    "    #print(people['first_name'][i] + \" \" + str(beefNode[beefTemp]))\n",
    "    graph.create(HasBeefWith(peopleNode[i],beefNode[beefTemp]))"
   ]
  },
  {
   "cell_type": "code",
   "execution_count": null,
   "metadata": {},
   "outputs": [],
   "source": []
  }
 ],
 "metadata": {
  "kernelspec": {
   "display_name": "Python 3",
   "language": "python",
   "name": "python3"
  },
  "language_info": {
   "codemirror_mode": {
    "name": "ipython",
    "version": 3
   },
   "file_extension": ".py",
   "mimetype": "text/x-python",
   "name": "python",
   "nbconvert_exporter": "python",
   "pygments_lexer": "ipython3",
   "version": "3.8.8"
  }
 },
 "nbformat": 4,
 "nbformat_minor": 4
}
