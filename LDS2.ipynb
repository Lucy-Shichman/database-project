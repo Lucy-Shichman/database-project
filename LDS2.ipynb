{
 "cells": [
  {
   "cell_type": "code",
   "execution_count": 66,
   "id": "1db47f52",
   "metadata": {},
   "outputs": [],
   "source": [
    "import sqlalchemy\n",
    "import pymysql\n",
    "from sqlalchemy import create_engine \n",
    "import pandas as pd "
   ]
  },
  {
   "cell_type": "code",
   "execution_count": 67,
   "id": "18651b06",
   "metadata": {},
   "outputs": [],
   "source": [
    "password = \"765678aA\"\n",
    "db_name = \"LDS2\""
   ]
  },
  {
   "cell_type": "code",
   "execution_count": 68,
   "id": "cc5de5d2",
   "metadata": {},
   "outputs": [],
   "source": [
    "conn = pymysql.connect(host='127.0.0.1', port = 3306, user ='root',password=password, database = db_name)"
   ]
  },
  {
   "cell_type": "code",
   "execution_count": 69,
   "id": "135699fc",
   "metadata": {},
   "outputs": [],
   "source": [
    "connection = create_engine(\"mysql+pymysql://root:\" + password + \"@localhost:3306/\" + db_name)"
   ]
  },
  {
   "cell_type": "code",
   "execution_count": 89,
   "id": "eb57da4e",
   "metadata": {},
   "outputs": [],
   "source": [
    "table_name ='People'\n",
    "table_name2 ='Academics'\n",
    "table_name3 ='Employment'\n",
    "table_name4 ='Hobbies'\n",
    "table_name5 ='Beef'"
   ]
  },
  {
   "cell_type": "code",
   "execution_count": 103,
   "id": "7cabe697",
   "metadata": {},
   "outputs": [],
   "source": [
    "people = pd.read_csv('/Users/johnle/Downloads/LDS2_Data_ppl.csv')\n",
    "people.to_sql(name=table_name, con=connection, if_exists='replace', index=False)"
   ]
  },
  {
   "cell_type": "code",
   "execution_count": 102,
   "id": "e02a4342",
   "metadata": {},
   "outputs": [
    {
     "name": "stderr",
     "output_type": "stream",
     "text": [
      "Exception during reset or similar\n",
      "Traceback (most recent call last):\n",
      "  File \"/Users/johnle/opt/anaconda3/lib/python3.8/site-packages/pymysql/connections.py\", line 756, in _write_bytes\n",
      "    self._sock.sendall(data)\n",
      "BrokenPipeError: [Errno 32] Broken pipe\n",
      "\n",
      "During handling of the above exception, another exception occurred:\n",
      "\n",
      "Traceback (most recent call last):\n",
      "  File \"/Users/johnle/opt/anaconda3/lib/python3.8/site-packages/sqlalchemy/pool/base.py\", line 670, in _finalize_fairy\n",
      "    fairy._reset(pool)\n",
      "  File \"/Users/johnle/opt/anaconda3/lib/python3.8/site-packages/sqlalchemy/pool/base.py\", line 875, in _reset\n",
      "    pool._dialect.do_rollback(self)\n",
      "  File \"/Users/johnle/opt/anaconda3/lib/python3.8/site-packages/sqlalchemy/engine/default.py\", line 642, in do_rollback\n",
      "    dbapi_connection.rollback()\n",
      "  File \"/Users/johnle/opt/anaconda3/lib/python3.8/site-packages/pymysql/connections.py\", line 479, in rollback\n",
      "    self._execute_command(COMMAND.COM_QUERY, \"ROLLBACK\")\n",
      "  File \"/Users/johnle/opt/anaconda3/lib/python3.8/site-packages/pymysql/connections.py\", line 814, in _execute_command\n",
      "    self._write_bytes(packet)\n",
      "  File \"/Users/johnle/opt/anaconda3/lib/python3.8/site-packages/pymysql/connections.py\", line 759, in _write_bytes\n",
      "    raise err.OperationalError(\n",
      "pymysql.err.OperationalError: (2006, \"MySQL server has gone away (BrokenPipeError(32, 'Broken pipe'))\")\n"
     ]
    }
   ],
   "source": [
    "academics = pd.read_csv('/Users/johnle/Downloads/LDS2_Data_academics.csv')\n",
    "academics.to_sql(name=table_name2, con=connection, if_exists='replace', index=False)"
   ]
  },
  {
   "cell_type": "code",
   "execution_count": 87,
   "id": "cfde35e4",
   "metadata": {},
   "outputs": [],
   "source": [
    "employment = pd.read_csv('/Users/johnle/Downloads/LDS2_Data_employment.csv')\n",
    "employment.to_sql(name=table_name3, con=connection, if_exists='replace', index=False)"
   ]
  },
  {
   "cell_type": "code",
   "execution_count": 90,
   "id": "74f92e27",
   "metadata": {},
   "outputs": [],
   "source": [
    "hobbies = pd.read_csv('/Users/johnle/Downloads/LDS2_Data_academics.csv')\n",
    "hobbies.to_sql(name=table_name4, con=connection, if_exists='replace', index=False)"
   ]
  },
  {
   "cell_type": "code",
   "execution_count": 91,
   "id": "ff651493",
   "metadata": {},
   "outputs": [],
   "source": [
    "beef = pd.read_csv('/Users/johnle/Downloads/LDS2_Data_academics.csv')\n",
    "beef.to_sql(name=table_name5, con=connection, if_exists='replace', index=False)"
   ]
  },
  {
   "cell_type": "code",
   "execution_count": 81,
   "id": "68456b33",
   "metadata": {},
   "outputs": [],
   "source": [
    "query1= \"SELECT * FROM People\"\n",
    "query2= \"\"\"\n",
    "\n",
    "SELECT * FROM People\n",
    "WHERE age = 21;\n",
    "\"\"\""
   ]
  },
  {
   "cell_type": "code",
   "execution_count": 82,
   "id": "49bac286",
   "metadata": {},
   "outputs": [],
   "source": [
    "result_df =pd.read_sql(query1, con=connection)\n",
    "result_df_2 =pd.read_sql(query2, con=connection)"
   ]
  },
  {
   "cell_type": "code",
   "execution_count": 83,
   "id": "3a4efea5",
   "metadata": {},
   "outputs": [
    {
     "data": {
      "text/html": [
       "<div>\n",
       "<style scoped>\n",
       "    .dataframe tbody tr th:only-of-type {\n",
       "        vertical-align: middle;\n",
       "    }\n",
       "\n",
       "    .dataframe tbody tr th {\n",
       "        vertical-align: top;\n",
       "    }\n",
       "\n",
       "    .dataframe thead th {\n",
       "        text-align: right;\n",
       "    }\n",
       "</style>\n",
       "<table border=\"1\" class=\"dataframe\">\n",
       "  <thead>\n",
       "    <tr style=\"text-align: right;\">\n",
       "      <th></th>\n",
       "      <th>Id</th>\n",
       "      <th>first_name</th>\n",
       "      <th>last_name</th>\n",
       "      <th>age</th>\n",
       "      <th>academic_id</th>\n",
       "      <th>employment_id</th>\n",
       "      <th>hobby_id</th>\n",
       "      <th>beef_id</th>\n",
       "      <th>restaurant_id</th>\n",
       "    </tr>\n",
       "  </thead>\n",
       "  <tbody>\n",
       "    <tr>\n",
       "      <th>0</th>\n",
       "      <td>1</td>\n",
       "      <td>Lucy</td>\n",
       "      <td>Shichman</td>\n",
       "      <td>21</td>\n",
       "      <td>1</td>\n",
       "      <td>1</td>\n",
       "      <td>1</td>\n",
       "      <td>a</td>\n",
       "      <td>b</td>\n",
       "    </tr>\n",
       "    <tr>\n",
       "      <th>1</th>\n",
       "      <td>2</td>\n",
       "      <td>Himayat</td>\n",
       "      <td>Azizi</td>\n",
       "      <td>20</td>\n",
       "      <td>3</td>\n",
       "      <td>2</td>\n",
       "      <td>4</td>\n",
       "      <td>b</td>\n",
       "      <td>b</td>\n",
       "    </tr>\n",
       "    <tr>\n",
       "      <th>2</th>\n",
       "      <td>3</td>\n",
       "      <td>John</td>\n",
       "      <td>Le</td>\n",
       "      <td>21</td>\n",
       "      <td>2</td>\n",
       "      <td>4</td>\n",
       "      <td>5</td>\n",
       "      <td>d</td>\n",
       "      <td>c</td>\n",
       "    </tr>\n",
       "    <tr>\n",
       "      <th>3</th>\n",
       "      <td>4</td>\n",
       "      <td>Jay</td>\n",
       "      <td>Peetla</td>\n",
       "      <td>18</td>\n",
       "      <td>4</td>\n",
       "      <td>3</td>\n",
       "      <td>3</td>\n",
       "      <td>c</td>\n",
       "      <td>a</td>\n",
       "    </tr>\n",
       "    <tr>\n",
       "      <th>4</th>\n",
       "      <td>5</td>\n",
       "      <td>Franky</td>\n",
       "      <td>padilla coo</td>\n",
       "      <td>20</td>\n",
       "      <td>5</td>\n",
       "      <td>5</td>\n",
       "      <td>2</td>\n",
       "      <td>c</td>\n",
       "      <td>d</td>\n",
       "    </tr>\n",
       "  </tbody>\n",
       "</table>\n",
       "</div>"
      ],
      "text/plain": [
       "   Id first_name    last_name  age  academic_id  employment_id  hobby_id  \\\n",
       "0   1       Lucy     Shichman   21            1              1         1   \n",
       "1   2    Himayat        Azizi   20            3              2         4   \n",
       "2   3       John           Le   21            2              4         5   \n",
       "3   4        Jay       Peetla   18            4              3         3   \n",
       "4   5     Franky  padilla coo   20            5              5         2   \n",
       "\n",
       "  beef_id restaurant_id  \n",
       "0       a             b  \n",
       "1       b             b  \n",
       "2       d             c  \n",
       "3       c             a  \n",
       "4       c             d  "
      ]
     },
     "execution_count": 83,
     "metadata": {},
     "output_type": "execute_result"
    }
   ],
   "source": [
    "result_df "
   ]
  },
  {
   "cell_type": "code",
   "execution_count": 84,
   "id": "b9fef74d",
   "metadata": {},
   "outputs": [
    {
     "data": {
      "text/html": [
       "<div>\n",
       "<style scoped>\n",
       "    .dataframe tbody tr th:only-of-type {\n",
       "        vertical-align: middle;\n",
       "    }\n",
       "\n",
       "    .dataframe tbody tr th {\n",
       "        vertical-align: top;\n",
       "    }\n",
       "\n",
       "    .dataframe thead th {\n",
       "        text-align: right;\n",
       "    }\n",
       "</style>\n",
       "<table border=\"1\" class=\"dataframe\">\n",
       "  <thead>\n",
       "    <tr style=\"text-align: right;\">\n",
       "      <th></th>\n",
       "      <th>Id</th>\n",
       "      <th>first_name</th>\n",
       "      <th>last_name</th>\n",
       "      <th>age</th>\n",
       "      <th>academic_id</th>\n",
       "      <th>employment_id</th>\n",
       "      <th>hobby_id</th>\n",
       "      <th>beef_id</th>\n",
       "      <th>restaurant_id</th>\n",
       "    </tr>\n",
       "  </thead>\n",
       "  <tbody>\n",
       "    <tr>\n",
       "      <th>0</th>\n",
       "      <td>1</td>\n",
       "      <td>Lucy</td>\n",
       "      <td>Shichman</td>\n",
       "      <td>21</td>\n",
       "      <td>1</td>\n",
       "      <td>1</td>\n",
       "      <td>1</td>\n",
       "      <td>a</td>\n",
       "      <td>b</td>\n",
       "    </tr>\n",
       "    <tr>\n",
       "      <th>1</th>\n",
       "      <td>3</td>\n",
       "      <td>John</td>\n",
       "      <td>Le</td>\n",
       "      <td>21</td>\n",
       "      <td>2</td>\n",
       "      <td>4</td>\n",
       "      <td>5</td>\n",
       "      <td>d</td>\n",
       "      <td>c</td>\n",
       "    </tr>\n",
       "  </tbody>\n",
       "</table>\n",
       "</div>"
      ],
      "text/plain": [
       "   Id first_name last_name  age  academic_id  employment_id  hobby_id beef_id  \\\n",
       "0   1       Lucy  Shichman   21            1              1         1       a   \n",
       "1   3       John        Le   21            2              4         5       d   \n",
       "\n",
       "  restaurant_id  \n",
       "0             b  \n",
       "1             c  "
      ]
     },
     "execution_count": 84,
     "metadata": {},
     "output_type": "execute_result"
    }
   ],
   "source": [
    "result_df_2"
   ]
  },
  {
   "cell_type": "code",
   "execution_count": null,
   "id": "644819b4",
   "metadata": {},
   "outputs": [],
   "source": [
    "from py2neo import Graph"
   ]
  },
  {
   "cell_type": "code",
   "execution_count": null,
   "id": "c4772193",
   "metadata": {},
   "outputs": [],
   "source": [
    "graph = Graph(\"bolt://localhost:7687\", auth=(\"neo4j\", \"password\"))"
   ]
  },
  {
   "cell_type": "code",
   "execution_count": 104,
   "id": "5a9f7e66",
   "metadata": {},
   "outputs": [
    {
     "name": "stdout",
     "output_type": "stream",
     "text": [
      "CREATE (:PERSON {first_name:'Lucy',last_name:Shichman,age:'21'})\n",
      "CREATE (:PERSON {first_name:'Himayat',last_name:Azizi,age:'20'})\n",
      "CREATE (:PERSON {first_name:'John',last_name:Le,age:'21'})\n",
      "CREATE (:PERSON {first_name:'Jay',last_name:Peetla,age:'18'})\n",
      "CREATE (:PERSON {first_name:'Franky',last_name:padilla coo,age:'20'})\n"
     ]
    }
   ],
   "source": [
    "for i in range(len(people)):\n",
    "    row = people.iloc[i]\n",
    "    print(\"CREATE (:PERSON {first_name:'\" + row['first_name'] + \"',last_name:\" + row.last_name + \",age:'\" + str(row.age)+\"'})\")"
   ]
  },
  {
   "cell_type": "code",
   "execution_count": 98,
   "id": "434ff52e",
   "metadata": {},
   "outputs": [
    {
     "name": "stdout",
     "output_type": "stream",
     "text": [
      "academic_id              1\n",
      "major              Biology\n",
      "university             UVA\n",
      "school                 CAS\n",
      "minor_existence       True\n",
      "minor_name              ds\n",
      "Name: 0, dtype: object\n",
      "academic_id           2\n",
      "major              Econ\n",
      "university          UVA\n",
      "school              CAS\n",
      "minor_existence    True\n",
      "minor_name           ds\n",
      "Name: 1, dtype: object\n",
      "academic_id           3\n",
      "major                CS\n",
      "university          UVA\n",
      "school              CAS\n",
      "minor_existence    True\n",
      "minor_name           ds\n",
      "Name: 2, dtype: object\n",
      "academic_id                  4\n",
      "major                       CS\n",
      "university                 UVA\n",
      "school             Engineering\n",
      "minor_existence          False\n",
      "minor_name                 NaN\n",
      "Name: 3, dtype: object\n",
      "academic_id                  5\n",
      "major                       CS\n",
      "university                 UVA\n",
      "school             Engineering\n",
      "minor_existence           True\n",
      "minor_name                  ds\n",
      "Name: 4, dtype: object\n"
     ]
    }
   ],
   "source": [
    "for i in range(len(academics)):\n",
    "    print(academics.iloc[i])"
   ]
  },
  {
   "cell_type": "code",
   "execution_count": null,
   "id": "d19be112",
   "metadata": {},
   "outputs": [],
   "source": []
  },
  {
   "cell_type": "code",
   "execution_count": null,
   "id": "2241ca44",
   "metadata": {},
   "outputs": [],
   "source": []
  },
  {
   "cell_type": "code",
   "execution_count": null,
   "id": "c26e9889",
   "metadata": {},
   "outputs": [],
   "source": []
  }
 ],
 "metadata": {
  "kernelspec": {
   "display_name": "Python 3",
   "language": "python",
   "name": "python3"
  },
  "language_info": {
   "codemirror_mode": {
    "name": "ipython",
    "version": 3
   },
   "file_extension": ".py",
   "mimetype": "text/x-python",
   "name": "python",
   "nbconvert_exporter": "python",
   "pygments_lexer": "ipython3",
   "version": "3.8.8"
  }
 },
 "nbformat": 4,
 "nbformat_minor": 5
}
