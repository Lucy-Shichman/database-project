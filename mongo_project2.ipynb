{
 "cells": [
  {
   "cell_type": "code",
   "execution_count": 1,
   "id": "66e1ecdb-8710-48ff-9f0b-acac343a53dc",
   "metadata": {},
   "outputs": [],
   "source": [
    "import pymongo\n",
    "from pymongo import MongoClient\n",
    "import pandas as pd"
   ]
  },
  {
   "cell_type": "code",
   "execution_count": 2,
   "id": "eb92ed67-68bf-45ae-87ba-dd7c64134c91",
   "metadata": {},
   "outputs": [],
   "source": [
    "client = MongoClient('localhost',27017)"
   ]
  },
  {
   "cell_type": "code",
   "execution_count": 3,
   "id": "b66ca427-9273-4538-af3e-a1004d9c3f7f",
   "metadata": {},
   "outputs": [
    {
     "data": {
      "text/plain": [
       "MongoClient(host=['localhost:27017'], document_class=dict, tz_aware=False, connect=True)"
      ]
     },
     "execution_count": 3,
     "metadata": {},
     "output_type": "execute_result"
    }
   ],
   "source": [
    "client"
   ]
  },
  {
   "cell_type": "code",
   "execution_count": 4,
   "id": "5e61577f-e2c7-41bc-9c96-48c3cb9f8b67",
   "metadata": {},
   "outputs": [],
   "source": [
    "db = client.launch_project #name of database"
   ]
  },
  {
   "cell_type": "code",
   "execution_count": 5,
   "id": "e57d8769-4564-4cf3-b64b-d7a4114b4ec7",
   "metadata": {},
   "outputs": [],
   "source": [
    "collection = db.students #name of collection"
   ]
  },
  {
   "cell_type": "code",
   "execution_count": 56,
   "id": "057eb658-674d-4371-a22f-af22bcd5d7b2",
   "metadata": {},
   "outputs": [],
   "source": [
    "#issue with reading in from github, i read files in locally\n",
    "people = pd.read_csv('/Users/lucyshichman/Desktop/People.csv')\n",
    "academics = pd.read_csv('/Users/lucyshichman/Desktop/Academics.csv')\n",
    "employment = pd.read_csv('/Users/lucyshichman/Desktop/Employment.csv')\n",
    "hobbies = pd.read_csv('/Users/lucyshichman/Desktop/Hobbies.csv')\n",
    "beef = pd.read_csv('/Users/lucyshichman/Desktop/Beef.csv')\n",
    "restaurant = pd.read_csv('/Users/lucyshichman/Desktop/restaurant.csv')"
   ]
  },
  {
   "cell_type": "code",
   "execution_count": 57,
   "id": "9ca91fbc-aeac-4380-819c-80535083d93e",
   "metadata": {},
   "outputs": [
    {
     "data": {
      "text/plain": [
       "[{'Id': 1,\n",
       "  'first_name': 'Lucy',\n",
       "  'last_name': 'Shichman',\n",
       "  'age': 21,\n",
       "  'academic_id': 1,\n",
       "  'employment_id': 1,\n",
       "  'hobby_id': 1,\n",
       "  'beef_id': 'a',\n",
       "  'restaurant_id': 'b'},\n",
       " {'Id': 2,\n",
       "  'first_name': 'Himayat',\n",
       "  'last_name': 'Azizi',\n",
       "  'age': 20,\n",
       "  'academic_id': 3,\n",
       "  'employment_id': 2,\n",
       "  'hobby_id': 4,\n",
       "  'beef_id': 'b',\n",
       "  'restaurant_id': 'b'},\n",
       " {'Id': 3,\n",
       "  'first_name': 'John',\n",
       "  'last_name': 'Le',\n",
       "  'age': 21,\n",
       "  'academic_id': 2,\n",
       "  'employment_id': 4,\n",
       "  'hobby_id': 5,\n",
       "  'beef_id': 'd',\n",
       "  'restaurant_id': 'c'},\n",
       " {'Id': 4,\n",
       "  'first_name': 'Jay',\n",
       "  'last_name': 'Peetla',\n",
       "  'age': 18,\n",
       "  'academic_id': 4,\n",
       "  'employment_id': 3,\n",
       "  'hobby_id': 3,\n",
       "  'beef_id': 'c',\n",
       "  'restaurant_id': 'a'},\n",
       " {'Id': 5,\n",
       "  'first_name': 'Franky',\n",
       "  'last_name': 'padilla coo',\n",
       "  'age': 20,\n",
       "  'academic_id': 5,\n",
       "  'employment_id': 5,\n",
       "  'hobby_id': 2,\n",
       "  'beef_id': 'c',\n",
       "  'restaurant_id': 'd'}]"
      ]
     },
     "execution_count": 57,
     "metadata": {},
     "output_type": "execute_result"
    }
   ],
   "source": [
    "people_dict = people.to_dict('records')\n",
    "people_dict"
   ]
  },
  {
   "cell_type": "code",
   "execution_count": 58,
   "id": "b3b438af-919b-4d11-bc5b-2dd61f348e3d",
   "metadata": {},
   "outputs": [],
   "source": [
    "for i in range(0, len(people_dict)): # Iterating through the list above\n",
    "    academic_id = people_dict[i]['academic_id'] # Getting the class id\n",
    "    academic_info = academics[academics['academic_id'] == academic_id][['major', 'university','school','minor_existence','minor_name']].iloc[0].to_dict() # Finding the corresponding class in the class dataframe and casting it to a dict\n",
    "    \n",
    "    people_dict[i]['academic_id'] = academic_info # Updating the list above to replace class id with the dictionary created above"
   ]
  },
  {
   "cell_type": "code",
   "execution_count": 59,
   "id": "94a3ccaa-bbab-43a5-aa11-df6354151d2c",
   "metadata": {},
   "outputs": [],
   "source": [
    "for i in range(0, len(people_dict)): # Iterating through the list above\n",
    "    employment_id = people_dict[i]['employment_id'] # Getting the class id\n",
    "    employment_info = employment[employment['employment_id'] == employment_id][['company', 'city','role']].iloc[0].to_dict() # Finding the corresponding class in the class dataframe and casting it to a dict\n",
    "    \n",
    "    people_dict[i]['employment_id'] = employment_info # Updating the list above to replace class id with the dictionary created above"
   ]
  },
  {
   "cell_type": "code",
   "execution_count": 60,
   "id": "2b62aae7-e2f3-430c-805a-7ff2ce3e902b",
   "metadata": {},
   "outputs": [],
   "source": [
    "for i in range(0, len(people_dict)): # Iterating through the list above\n",
    "    hobby_id = people_dict[i]['hobby_id'] # Getting the class id\n",
    "    hobby_info = hobbies[hobbies['hobby_id'] == hobby_id][['hobby1', 'hobby2','organizations']].iloc[0].to_dict() # Finding the corresponding class in the class dataframe and casting it to a dict\n",
    "    \n",
    "    people_dict[i]['hobby_id'] = hobby_info # Updating the list above to replace class id with the dictionary created above"
   ]
  },
  {
   "cell_type": "code",
   "execution_count": 61,
   "id": "6745c45f-02a0-440f-ab5f-b505f82731b6",
   "metadata": {},
   "outputs": [],
   "source": [
    "for i in range(0, len(people_dict)): # Iterating through the list above\n",
    "    beef_id = people_dict[i]['beef_id'] # Getting the class id\n",
    "    beef_info = beef[beef['beef_id'] == beef_id][['beef_with', 'why_beef','friends_with','why_friends']].iloc[0].to_dict() # Finding the corresponding class in the class dataframe and casting it to a dict\n",
    "    \n",
    "    people_dict[i]['beef_id'] = beef_info # Updating the list above to replace class id with the dictionary created above"
   ]
  },
  {
   "cell_type": "code",
   "execution_count": 62,
   "id": "f8895648-db05-4578-9eb5-9d34c64f1ffd",
   "metadata": {},
   "outputs": [],
   "source": [
    "for i in range(0, len(people_dict)): # Iterating through the list above\n",
    "    restaurant_id = people_dict[i]['restaurant_id'] # Getting the class id\n",
    "    restaurant_info = restaurant[restaurant['restaurant_id'] == restaurant_id][['name', 'location','type']].iloc[0].to_dict() # Finding the corresponding class in the class dataframe and casting it to a dict\n",
    "    \n",
    "    people_dict[i]['restaurant_id'] = restaurant_info # Updating the list above to replace class id with the dictionary created above"
   ]
  },
  {
   "cell_type": "code",
   "execution_count": 63,
   "id": "b21b70e6-3c03-47b2-8a15-790bfa75f6f0",
   "metadata": {},
   "outputs": [
    {
     "data": {
      "text/plain": [
       "[{'Id': 1,\n",
       "  'first_name': 'Lucy',\n",
       "  'last_name': 'Shichman',\n",
       "  'age': 21,\n",
       "  'academic_id': {'major': 'Biology',\n",
       "   'university': 'UVA',\n",
       "   'school': 'CAS',\n",
       "   'minor_existence': True,\n",
       "   'minor_name': 'ds'},\n",
       "  'employment_id': {'company': 'FGH', 'city': 'DC', 'role': 'Analyst'},\n",
       "  'hobby_id': {'hobby1': 'Hiking',\n",
       "   'hobby2': 'Rock Climbing',\n",
       "   'organizations': 'Clay Club'},\n",
       "  'beef_id': {'beef_with': 'Franky',\n",
       "   'why_beef': 'drinks dasani',\n",
       "   'friends_with': 'no one',\n",
       "   'why_friends': 'watches stranger things'},\n",
       "  'restaurant_id': {'name': \"Wendy's\",\n",
       "   'location': 'Charlottesville',\n",
       "   'type': 'Fast Food'}},\n",
       " {'Id': 2,\n",
       "  'first_name': 'Himayat',\n",
       "  'last_name': 'Azizi',\n",
       "  'age': 20,\n",
       "  'academic_id': {'major': 'CS',\n",
       "   'university': 'UVA',\n",
       "   'school': 'CAS',\n",
       "   'minor_existence': True,\n",
       "   'minor_name': 'ds'},\n",
       "  'employment_id': {'company': 'Teaching Lab',\n",
       "   'city': nan,\n",
       "   'role': 'Data Scientist'},\n",
       "  'hobby_id': {'hobby1': 'Basketball',\n",
       "   'hobby2': 'Hiking',\n",
       "   'organizations': 'DSAC, PCS, MSA'},\n",
       "  'beef_id': {'beef_with': 'Lucy',\n",
       "   'why_beef': \"doesn't mix chipotle bowl\",\n",
       "   'friends_with': 'Jay',\n",
       "   'why_friends': 'likes chipotle'},\n",
       "  'restaurant_id': {'name': \"Wendy's\",\n",
       "   'location': 'Charlottesville',\n",
       "   'type': 'Fast Food'}},\n",
       " {'Id': 3,\n",
       "  'first_name': 'John',\n",
       "  'last_name': 'Le',\n",
       "  'age': 21,\n",
       "  'academic_id': {'major': 'Econ',\n",
       "   'university': 'UVA',\n",
       "   'school': 'CAS',\n",
       "   'minor_existence': True,\n",
       "   'minor_name': 'ds'},\n",
       "  'employment_id': {'company': 'Premise',\n",
       "   'city': 'DC',\n",
       "   'role': 'Data Scientist'},\n",
       "  'hobby_id': {'hobby1': 'Basketball',\n",
       "   'hobby2': 'Photography',\n",
       "   'organizations': 'VSA'},\n",
       "  'beef_id': {'beef_with': 'John',\n",
       "   'why_beef': 'loves the smell of stink',\n",
       "   'friends_with': 'lucy',\n",
       "   'why_friends': 'loves pineapple on pizza'},\n",
       "  'restaurant_id': {'name': 'Taco Bell',\n",
       "   'location': 'Emmet St',\n",
       "   'type': 'Fast Food'}},\n",
       " {'Id': 4,\n",
       "  'first_name': 'Jay',\n",
       "  'last_name': 'Peetla',\n",
       "  'age': 18,\n",
       "  'academic_id': {'major': 'CS',\n",
       "   'university': 'UVA',\n",
       "   'school': 'Engineering',\n",
       "   'minor_existence': False,\n",
       "   'minor_name': nan},\n",
       "  'employment_id': {'company': 'ENSCO',\n",
       "   'city': 'Richmond',\n",
       "   'role': 'Data Scientist'},\n",
       "  'hobby_id': {'hobby1': 'Basketball',\n",
       "   'hobby2': 'Racing',\n",
       "   'organizations': 'ML Club'},\n",
       "  'beef_id': {'beef_with': 'Jay',\n",
       "   'why_beef': \"doesn't use turn signals\",\n",
       "   'friends_with': 'himayatullah',\n",
       "   'why_friends': 'cool guy'},\n",
       "  'restaurant_id': {'name': 'Chipotle',\n",
       "   'location': 'Barracks',\n",
       "   'type': 'Fast Food'}},\n",
       " {'Id': 5,\n",
       "  'first_name': 'Franky',\n",
       "  'last_name': 'padilla coo',\n",
       "  'age': 20,\n",
       "  'academic_id': {'major': 'CS',\n",
       "   'university': 'UVA',\n",
       "   'school': 'Engineering',\n",
       "   'minor_existence': True,\n",
       "   'minor_name': 'ds'},\n",
       "  'employment_id': {'company': 'IT Concepts',\n",
       "   'city': 'Vienna',\n",
       "   'role': 'Data Scientist'},\n",
       "  'hobby_id': {'hobby1': 'flag football',\n",
       "   'hobby2': 'Tennis',\n",
       "   'organizations': 'OYFA'},\n",
       "  'beef_id': {'beef_with': 'Jay',\n",
       "   'why_beef': \"doesn't use turn signals\",\n",
       "   'friends_with': 'himayatullah',\n",
       "   'why_friends': 'cool guy'},\n",
       "  'restaurant_id': {'name': 'Cook Out',\n",
       "   'location': 'Charlottesville',\n",
       "   'type': 'Fancy'}}]"
      ]
     },
     "execution_count": 63,
     "metadata": {},
     "output_type": "execute_result"
    }
   ],
   "source": [
    "people_dict"
   ]
  },
  {
   "cell_type": "code",
   "execution_count": 64,
   "id": "e1055192-e261-4bcc-a8f8-03d63c230c19",
   "metadata": {},
   "outputs": [
    {
     "data": {
      "text/plain": [
       "<pymongo.results.InsertManyResult at 0x7f95c50bb440>"
      ]
     },
     "execution_count": 64,
     "metadata": {},
     "output_type": "execute_result"
    }
   ],
   "source": [
    "collection.insert_many(people_dict)"
   ]
  },
  {
   "cell_type": "code",
   "execution_count": null,
   "id": "ab9b0f9c-ae42-4939-aa24-5c3c447b9df4",
   "metadata": {},
   "outputs": [],
   "source": [
    " "
   ]
  },
  {
   "cell_type": "code",
   "execution_count": null,
   "id": "7015c7df-ef24-4eab-ad94-cede3723dcaf",
   "metadata": {},
   "outputs": [],
   "source": []
  }
 ],
 "metadata": {
  "kernelspec": {
   "display_name": "Python 3 (ipykernel)",
   "language": "python",
   "name": "python3"
  },
  "language_info": {
   "codemirror_mode": {
    "name": "ipython",
    "version": 3
   },
   "file_extension": ".py",
   "mimetype": "text/x-python",
   "name": "python",
   "nbconvert_exporter": "python",
   "pygments_lexer": "ipython3",
   "version": "3.9.7"
  }
 },
 "nbformat": 4,
 "nbformat_minor": 5
}
