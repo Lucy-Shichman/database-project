{
 "cells": [
  {
   "cell_type": "code",
   "execution_count": 1,
   "id": "66e1ecdb-8710-48ff-9f0b-acac343a53dc",
   "metadata": {},
   "outputs": [],
   "source": [
    "import pymongo\n",
    "from pymongo import MongoClient\n",
    "import pandas as pd"
   ]
  },
  {
   "cell_type": "code",
   "execution_count": 2,
   "id": "eb92ed67-68bf-45ae-87ba-dd7c64134c91",
   "metadata": {},
   "outputs": [],
   "source": [
    "client = MongoClient('localhost',27017)"
   ]
  },
  {
   "cell_type": "code",
   "execution_count": 3,
   "id": "b66ca427-9273-4538-af3e-a1004d9c3f7f",
   "metadata": {},
   "outputs": [
    {
     "data": {
      "text/plain": [
       "MongoClient(host=['localhost:27017'], document_class=dict, tz_aware=False, connect=True)"
      ]
     },
     "execution_count": 3,
     "metadata": {},
     "output_type": "execute_result"
    }
   ],
   "source": [
    "client"
   ]
  },
  {
   "cell_type": "code",
   "execution_count": 4,
   "id": "5e61577f-e2c7-41bc-9c96-48c3cb9f8b67",
   "metadata": {},
   "outputs": [],
   "source": [
    "db = client.launch_project #name of database"
   ]
  },
  {
   "cell_type": "code",
   "execution_count": 5,
   "id": "e57d8769-4564-4cf3-b64b-d7a4114b4ec7",
   "metadata": {},
   "outputs": [],
   "source": [
    "collection = db.students #name of collection"
   ]
  },
  {
   "cell_type": "code",
   "execution_count": 18,
   "id": "057eb658-674d-4371-a22f-af22bcd5d7b2",
   "metadata": {},
   "outputs": [],
   "source": [
    "#issue with reading in from github, i read files in locally\n",
    "people = pd.read_csv('/Users/lucyshichman/Desktop/People.csv')\n",
    "academics = pd.read_csv('/Users/lucyshichman/Desktop/Academics.csv')\n",
    "employment = pd.read_csv('/Users/lucyshichman/Desktop/Employment.csv')\n",
    "hobbies = pd.read_csv('/Users/lucyshichman/Desktop/Hobbies.csv')\n",
    "beef = pd.read_csv('/Users/lucyshichman/Desktop/Beef.csv')\n",
    "worst_restaurant = pd.read_csv('/Users/lucyshichman/Desktop/Worst_Restaurants.csv')"
   ]
  },
  {
   "cell_type": "code",
   "execution_count": null,
   "id": "9ca91fbc-aeac-4380-819c-80535083d93e",
   "metadata": {},
   "outputs": [],
   "source": []
  },
  {
   "cell_type": "code",
   "execution_count": null,
   "id": "b3b438af-919b-4d11-bc5b-2dd61f348e3d",
   "metadata": {},
   "outputs": [],
   "source": []
  }
 ],
 "metadata": {
  "kernelspec": {
   "display_name": "Python 3 (ipykernel)",
   "language": "python",
   "name": "python3"
  },
  "language_info": {
   "codemirror_mode": {
    "name": "ipython",
    "version": 3
   },
   "file_extension": ".py",
   "mimetype": "text/x-python",
   "name": "python",
   "nbconvert_exporter": "python",
   "pygments_lexer": "ipython3",
   "version": "3.9.7"
  }
 },
 "nbformat": 4,
 "nbformat_minor": 5
}
