{
 "cells": [
  {
   "cell_type": "code",
   "execution_count": 64,
   "id": "1db47f52",
   "metadata": {},
   "outputs": [],
   "source": [
    "import sqlalchemy\n",
    "import pymysql\n",
    "from sqlalchemy import create_engine \n",
    "import pandas as pd "
   ]
  },
  {
   "cell_type": "code",
   "execution_count": 65,
   "id": "18651b06",
   "metadata": {},
   "outputs": [],
   "source": [
    "password = \"765678aA\"\n",
    "db_name = \"LDS2\""
   ]
  },
  {
   "cell_type": "code",
   "execution_count": 66,
   "id": "cc5de5d2",
   "metadata": {},
   "outputs": [],
   "source": [
    "conn = pymysql.connect(host='127.0.0.1', port = 3306, user ='root',password=password, database = db_name)"
   ]
  },
  {
   "cell_type": "code",
   "execution_count": 67,
   "id": "135699fc",
   "metadata": {},
   "outputs": [],
   "source": [
    "connection = create_engine(\"mysql+pymysql://root:\" + password + \"@localhost:3306/\" + db_name)"
   ]
  },
  {
   "cell_type": "code",
   "execution_count": 68,
   "id": "eb57da4e",
   "metadata": {},
   "outputs": [],
   "source": [
    "table_name ='People'\n",
    "table_name2 ='Academics'\n",
    "table_name3 ='Employment'\n",
    "table_name4 ='Hobbies'\n",
    "table_name5 ='Beef'"
   ]
  },
  {
   "cell_type": "code",
   "execution_count": 69,
   "id": "7cabe697",
   "metadata": {},
   "outputs": [],
   "source": [
    "people = pd.read_csv('/Users/johnle/Downloads/LDS2_Data_ppl.csv')\n",
    "people.to_sql(name=table_name, con=connection, if_exists='replace', index=False)"
   ]
  },
  {
   "cell_type": "code",
   "execution_count": 70,
   "id": "e02a4342",
   "metadata": {},
   "outputs": [],
   "source": [
    "academics = pd.read_csv('/Users/johnle/Downloads/LDS2_Data_academics.csv')\n",
    "academics.to_sql(name=table_name2, con=connection, if_exists='replace', index=False)"
   ]
  },
  {
   "cell_type": "code",
   "execution_count": 71,
   "id": "cfde35e4",
   "metadata": {},
   "outputs": [],
   "source": [
    "employment = pd.read_csv('/Users/johnle/Downloads/LDS2_Data_employment.csv')\n",
    "employment.to_sql(name=table_name3, con=connection, if_exists='replace', index=False)"
   ]
  },
  {
   "cell_type": "code",
   "execution_count": 101,
   "id": "74f92e27",
   "metadata": {},
   "outputs": [],
   "source": [
    "hobbies = pd.read_csv('/Users/johnle/Downloads/LDS2_Data_hobbies .csv')\n",
    "hobbies.to_sql(name=table_name4, con=connection, if_exists='replace', index=False)"
   ]
  },
  {
   "cell_type": "code",
   "execution_count": 73,
   "id": "ff651493",
   "metadata": {},
   "outputs": [],
   "source": [
    "beef = pd.read_csv('/Users/johnle/Downloads/LDS2_Data_academics.csv')\n",
    "beef.to_sql(name=table_name5, con=connection, if_exists='replace', index=False)"
   ]
  },
  {
   "cell_type": "code",
   "execution_count": 74,
   "id": "68456b33",
   "metadata": {},
   "outputs": [],
   "source": [
    "query1= \"SELECT * FROM People\"\n",
    "query2= \"\"\"\n",
    "\n",
    "SELECT * FROM People\n",
    "WHERE age = 21;\n",
    "\"\"\""
   ]
  },
  {
   "cell_type": "code",
   "execution_count": 75,
   "id": "49bac286",
   "metadata": {},
   "outputs": [],
   "source": [
    "result_df =pd.read_sql(query1, con=connection)\n",
    "result_df_2 =pd.read_sql(query2, con=connection)"
   ]
  },
  {
   "cell_type": "code",
   "execution_count": 76,
   "id": "3a4efea5",
   "metadata": {},
   "outputs": [
    {
     "data": {
      "text/html": [
       "<div>\n",
       "<style scoped>\n",
       "    .dataframe tbody tr th:only-of-type {\n",
       "        vertical-align: middle;\n",
       "    }\n",
       "\n",
       "    .dataframe tbody tr th {\n",
       "        vertical-align: top;\n",
       "    }\n",
       "\n",
       "    .dataframe thead th {\n",
       "        text-align: right;\n",
       "    }\n",
       "</style>\n",
       "<table border=\"1\" class=\"dataframe\">\n",
       "  <thead>\n",
       "    <tr style=\"text-align: right;\">\n",
       "      <th></th>\n",
       "      <th>Id</th>\n",
       "      <th>first_name</th>\n",
       "      <th>last_name</th>\n",
       "      <th>age</th>\n",
       "      <th>academic_id</th>\n",
       "      <th>employment_id</th>\n",
       "      <th>hobby_id</th>\n",
       "      <th>beef_id</th>\n",
       "      <th>restaurant_id</th>\n",
       "    </tr>\n",
       "  </thead>\n",
       "  <tbody>\n",
       "    <tr>\n",
       "      <th>0</th>\n",
       "      <td>1</td>\n",
       "      <td>Lucy</td>\n",
       "      <td>Shichman</td>\n",
       "      <td>21</td>\n",
       "      <td>1</td>\n",
       "      <td>1</td>\n",
       "      <td>1</td>\n",
       "      <td>a</td>\n",
       "      <td>b</td>\n",
       "    </tr>\n",
       "    <tr>\n",
       "      <th>1</th>\n",
       "      <td>2</td>\n",
       "      <td>Himayat</td>\n",
       "      <td>Azizi</td>\n",
       "      <td>20</td>\n",
       "      <td>3</td>\n",
       "      <td>2</td>\n",
       "      <td>4</td>\n",
       "      <td>b</td>\n",
       "      <td>b</td>\n",
       "    </tr>\n",
       "    <tr>\n",
       "      <th>2</th>\n",
       "      <td>3</td>\n",
       "      <td>John</td>\n",
       "      <td>Le</td>\n",
       "      <td>21</td>\n",
       "      <td>2</td>\n",
       "      <td>4</td>\n",
       "      <td>5</td>\n",
       "      <td>d</td>\n",
       "      <td>c</td>\n",
       "    </tr>\n",
       "    <tr>\n",
       "      <th>3</th>\n",
       "      <td>4</td>\n",
       "      <td>Jay</td>\n",
       "      <td>Peetla</td>\n",
       "      <td>18</td>\n",
       "      <td>4</td>\n",
       "      <td>3</td>\n",
       "      <td>3</td>\n",
       "      <td>c</td>\n",
       "      <td>a</td>\n",
       "    </tr>\n",
       "    <tr>\n",
       "      <th>4</th>\n",
       "      <td>5</td>\n",
       "      <td>Franky</td>\n",
       "      <td>padilla coo</td>\n",
       "      <td>20</td>\n",
       "      <td>5</td>\n",
       "      <td>5</td>\n",
       "      <td>2</td>\n",
       "      <td>c</td>\n",
       "      <td>d</td>\n",
       "    </tr>\n",
       "  </tbody>\n",
       "</table>\n",
       "</div>"
      ],
      "text/plain": [
       "   Id first_name    last_name  age  academic_id  employment_id  hobby_id  \\\n",
       "0   1       Lucy     Shichman   21            1              1         1   \n",
       "1   2    Himayat        Azizi   20            3              2         4   \n",
       "2   3       John           Le   21            2              4         5   \n",
       "3   4        Jay       Peetla   18            4              3         3   \n",
       "4   5     Franky  padilla coo   20            5              5         2   \n",
       "\n",
       "  beef_id restaurant_id  \n",
       "0       a             b  \n",
       "1       b             b  \n",
       "2       d             c  \n",
       "3       c             a  \n",
       "4       c             d  "
      ]
     },
     "execution_count": 76,
     "metadata": {},
     "output_type": "execute_result"
    }
   ],
   "source": [
    "result_df "
   ]
  },
  {
   "cell_type": "code",
   "execution_count": 77,
   "id": "b9fef74d",
   "metadata": {},
   "outputs": [
    {
     "data": {
      "text/html": [
       "<div>\n",
       "<style scoped>\n",
       "    .dataframe tbody tr th:only-of-type {\n",
       "        vertical-align: middle;\n",
       "    }\n",
       "\n",
       "    .dataframe tbody tr th {\n",
       "        vertical-align: top;\n",
       "    }\n",
       "\n",
       "    .dataframe thead th {\n",
       "        text-align: right;\n",
       "    }\n",
       "</style>\n",
       "<table border=\"1\" class=\"dataframe\">\n",
       "  <thead>\n",
       "    <tr style=\"text-align: right;\">\n",
       "      <th></th>\n",
       "      <th>Id</th>\n",
       "      <th>first_name</th>\n",
       "      <th>last_name</th>\n",
       "      <th>age</th>\n",
       "      <th>academic_id</th>\n",
       "      <th>employment_id</th>\n",
       "      <th>hobby_id</th>\n",
       "      <th>beef_id</th>\n",
       "      <th>restaurant_id</th>\n",
       "    </tr>\n",
       "  </thead>\n",
       "  <tbody>\n",
       "    <tr>\n",
       "      <th>0</th>\n",
       "      <td>1</td>\n",
       "      <td>Lucy</td>\n",
       "      <td>Shichman</td>\n",
       "      <td>21</td>\n",
       "      <td>1</td>\n",
       "      <td>1</td>\n",
       "      <td>1</td>\n",
       "      <td>a</td>\n",
       "      <td>b</td>\n",
       "    </tr>\n",
       "    <tr>\n",
       "      <th>1</th>\n",
       "      <td>3</td>\n",
       "      <td>John</td>\n",
       "      <td>Le</td>\n",
       "      <td>21</td>\n",
       "      <td>2</td>\n",
       "      <td>4</td>\n",
       "      <td>5</td>\n",
       "      <td>d</td>\n",
       "      <td>c</td>\n",
       "    </tr>\n",
       "  </tbody>\n",
       "</table>\n",
       "</div>"
      ],
      "text/plain": [
       "   Id first_name last_name  age  academic_id  employment_id  hobby_id beef_id  \\\n",
       "0   1       Lucy  Shichman   21            1              1         1       a   \n",
       "1   3       John        Le   21            2              4         5       d   \n",
       "\n",
       "  restaurant_id  \n",
       "0             b  \n",
       "1             c  "
      ]
     },
     "execution_count": 77,
     "metadata": {},
     "output_type": "execute_result"
    }
   ],
   "source": [
    "result_df_2"
   ]
  },
  {
   "cell_type": "code",
   "execution_count": 78,
   "id": "644819b4",
   "metadata": {},
   "outputs": [],
   "source": [
    "from py2neo import Graph"
   ]
  },
  {
   "cell_type": "code",
   "execution_count": 79,
   "id": "c4772193",
   "metadata": {},
   "outputs": [],
   "source": [
    "graph = Graph(\"bolt://localhost:7687\", auth=(\"neo4j\", \"password\"))"
   ]
  },
  {
   "cell_type": "code",
   "execution_count": 116,
   "id": "5a9f7e66",
   "metadata": {},
   "outputs": [],
   "source": [
    "for i in range(len(people)):\n",
    "    row = people.iloc[i]\n",
    "    graph.run(\"CREATE (:PERSON {first_name:'\" + row['first_name'] \n",
    "              + \"',last_name:'\" + str(row.last_name) \n",
    "              + \"',age:'\" + str(row.age)\n",
    "              + \"',academic_id:'\" + str(row.academic_id)\n",
    "              + \"',employment_id:'\" + str(row.employment_id)\n",
    "              + \"',hobby_id:'\" + str(row.hobby_id)\n",
    "              + \"',beef_id:'\" + str(row.beef_id)\n",
    "              + \"',restaurant_id:'\" + str(row.restaurant_id)\n",
    "              +\"'})\")"
   ]
  },
  {
   "cell_type": "code",
   "execution_count": 120,
   "id": "13a85e1a",
   "metadata": {},
   "outputs": [
    {
     "name": "stdout",
     "output_type": "stream",
     "text": [
      "CREATE (:ACADEMICS {academic_id:'1',major:'Biology',university:'UVA',school:'CAS',minor_existence:'True',minor_name:'ds'})\n",
      "CREATE (:ACADEMICS {academic_id:'2',major:'Econ',university:'UVA',school:'CAS',minor_existence:'True',minor_name:'ds'})\n",
      "CREATE (:ACADEMICS {academic_id:'3',major:'CS',university:'UVA',school:'CAS',minor_existence:'True',minor_name:'ds'})\n",
      "CREATE (:ACADEMICS {academic_id:'4',major:'CS',university:'UVA',school:'Engineering',minor_existence:'False',minor_name:'nan'})\n",
      "CREATE (:ACADEMICS {academic_id:'5',major:'CS',university:'UVA',school:'Engineering',minor_existence:'True',minor_name:'ds'})\n"
     ]
    }
   ],
   "source": [
    "for i in range(len(academics)):\n",
    "    row = academics.iloc[i]\n",
    "    print(\"CREATE (:ACADEMICS {academic_id:'\" + str(row.academic_id) \n",
    "              + \"',major:'\" + str(row.major) \n",
    "              + \"',university:'\" + str(row.university)\n",
    "              + \"',school:'\" + str(row.school)\n",
    "              + \"',minor_existence:'\" + str(row.minor_existence)\n",
    "              + \"',minor_name:'\" + str(row.minor_name)\n",
    "              +\"'})\")\n",
    "    "
   ]
  },
  {
   "cell_type": "code",
   "execution_count": 124,
   "id": "d19be112",
   "metadata": {},
   "outputs": [],
   "source": [
    "# RELATIONSHIP\n",
    "for i in range(len(people)):\n",
    "    row = people.iloc[i]\n",
    "    #First step: Create the person nodes, with the properties that won't be used to create relationships.\n",
    "    graph.run(\"CREATE (:PERSON {first_name:'\" + str(row['first_name']) + \"'})\")\n",
    "    \n",
    "    #What would creating relationships to companies and schools look like? Let's go to the cypher browser\n",
    "    graph.run(\"MATCH (p:PERSON {first_name:'\" + str(row['first_name']) +\"'}), (c:ACADEMICS {major:'\" + str(row['academic_id']) + \"'}) CREATE (p)-[:STUDIES]->(c)\")"
   ]
  },
  {
   "cell_type": "code",
   "execution_count": 97,
   "id": "31358438",
   "metadata": {},
   "outputs": [],
   "source": [
    "for i in range(len(employment)):\n",
    "    row = employment.iloc[i]\n",
    "    graph.run(\"CREATE (:EMPLOYMENT {employment_id:'\" + str(row.employment_id) \n",
    "              + \"',company:'\" + str(row['company']) \n",
    "              + \"',city:'\" + str(row['city']) \n",
    "              + \"',role:'\"+ str(row['role']) +\"'})\")"
   ]
  },
  {
   "cell_type": "code",
   "execution_count": 104,
   "id": "8629198d",
   "metadata": {},
   "outputs": [],
   "source": [
    "for i in range(len(hobbies)):\n",
    "    row = hobbies.iloc[i]\n",
    "    graph.run(\"CREATE (:HOBBIES {hobby_id:'\" + str(row['hobby_id']) \n",
    "              + \"',hobby1:'\" + str(row.hobby1) \n",
    "              + \"',hobby2:'\" + str(row.hobby2)\n",
    "              + \"',organizations:'\" + str(row.organizations)\n",
    "              +\"'})\")"
   ]
  },
  {
   "cell_type": "code",
   "execution_count": 113,
   "id": "c5372e98",
   "metadata": {},
   "outputs": [
    {
     "ename": "KeyError",
     "evalue": "'academic_id'",
     "output_type": "error",
     "traceback": [
      "\u001b[0;31m---------------------------------------------------------------------------\u001b[0m",
      "\u001b[0;31mKeyError\u001b[0m                                  Traceback (most recent call last)",
      "\u001b[0;32m~/opt/anaconda3/lib/python3.8/site-packages/pandas/core/indexes/base.py\u001b[0m in \u001b[0;36mget_loc\u001b[0;34m(self, key, method, tolerance)\u001b[0m\n\u001b[1;32m   3079\u001b[0m             \u001b[0;32mtry\u001b[0m\u001b[0;34m:\u001b[0m\u001b[0;34m\u001b[0m\u001b[0;34m\u001b[0m\u001b[0m\n\u001b[0;32m-> 3080\u001b[0;31m                 \u001b[0;32mreturn\u001b[0m \u001b[0mself\u001b[0m\u001b[0;34m.\u001b[0m\u001b[0m_engine\u001b[0m\u001b[0;34m.\u001b[0m\u001b[0mget_loc\u001b[0m\u001b[0;34m(\u001b[0m\u001b[0mcasted_key\u001b[0m\u001b[0;34m)\u001b[0m\u001b[0;34m\u001b[0m\u001b[0;34m\u001b[0m\u001b[0m\n\u001b[0m\u001b[1;32m   3081\u001b[0m             \u001b[0;32mexcept\u001b[0m \u001b[0mKeyError\u001b[0m \u001b[0;32mas\u001b[0m \u001b[0merr\u001b[0m\u001b[0;34m:\u001b[0m\u001b[0;34m\u001b[0m\u001b[0;34m\u001b[0m\u001b[0m\n",
      "\u001b[0;32mpandas/_libs/index.pyx\u001b[0m in \u001b[0;36mpandas._libs.index.IndexEngine.get_loc\u001b[0;34m()\u001b[0m\n",
      "\u001b[0;32mpandas/_libs/index.pyx\u001b[0m in \u001b[0;36mpandas._libs.index.IndexEngine.get_loc\u001b[0;34m()\u001b[0m\n",
      "\u001b[0;32mpandas/_libs/hashtable_class_helper.pxi\u001b[0m in \u001b[0;36mpandas._libs.hashtable.PyObjectHashTable.get_item\u001b[0;34m()\u001b[0m\n",
      "\u001b[0;32mpandas/_libs/hashtable_class_helper.pxi\u001b[0m in \u001b[0;36mpandas._libs.hashtable.PyObjectHashTable.get_item\u001b[0;34m()\u001b[0m\n",
      "\u001b[0;31mKeyError\u001b[0m: 'academic_id'",
      "\nThe above exception was the direct cause of the following exception:\n",
      "\u001b[0;31mKeyError\u001b[0m                                  Traceback (most recent call last)",
      "\u001b[0;32m<ipython-input-113-b878f63eac8e>\u001b[0m in \u001b[0;36m<module>\u001b[0;34m\u001b[0m\n\u001b[0;32m----> 1\u001b[0;31m \u001b[0mprint\u001b[0m\u001b[0;34m(\u001b[0m\u001b[0;34m\"MATCH (p:PERSON {academic_id:'\"\u001b[0m \u001b[0;34m+\u001b[0m \u001b[0mrow\u001b[0m\u001b[0;34m[\u001b[0m\u001b[0;34m'academic_id'\u001b[0m\u001b[0;34m]\u001b[0m \u001b[0;34m+\u001b[0m\u001b[0;34m\"'}), (a:ACADEMICS {academic_id:'\"\u001b[0m \u001b[0;34m+\u001b[0m \u001b[0mrow\u001b[0m\u001b[0;34m[\u001b[0m\u001b[0;34m'academic_id'\u001b[0m\u001b[0;34m]\u001b[0m \u001b[0;34m+\u001b[0m \u001b[0;34m\"'}) CREATE (p)-[:WORKS_AT]->(a)\"\u001b[0m\u001b[0;34m)\u001b[0m\u001b[0;34m\u001b[0m\u001b[0;34m\u001b[0m\u001b[0m\n\u001b[0m",
      "\u001b[0;32m~/opt/anaconda3/lib/python3.8/site-packages/pandas/core/series.py\u001b[0m in \u001b[0;36m__getitem__\u001b[0;34m(self, key)\u001b[0m\n\u001b[1;32m    851\u001b[0m \u001b[0;34m\u001b[0m\u001b[0m\n\u001b[1;32m    852\u001b[0m         \u001b[0;32melif\u001b[0m \u001b[0mkey_is_scalar\u001b[0m\u001b[0;34m:\u001b[0m\u001b[0;34m\u001b[0m\u001b[0;34m\u001b[0m\u001b[0m\n\u001b[0;32m--> 853\u001b[0;31m             \u001b[0;32mreturn\u001b[0m \u001b[0mself\u001b[0m\u001b[0;34m.\u001b[0m\u001b[0m_get_value\u001b[0m\u001b[0;34m(\u001b[0m\u001b[0mkey\u001b[0m\u001b[0;34m)\u001b[0m\u001b[0;34m\u001b[0m\u001b[0;34m\u001b[0m\u001b[0m\n\u001b[0m\u001b[1;32m    854\u001b[0m \u001b[0;34m\u001b[0m\u001b[0m\n\u001b[1;32m    855\u001b[0m         \u001b[0;32mif\u001b[0m \u001b[0mis_hashable\u001b[0m\u001b[0;34m(\u001b[0m\u001b[0mkey\u001b[0m\u001b[0;34m)\u001b[0m\u001b[0;34m:\u001b[0m\u001b[0;34m\u001b[0m\u001b[0;34m\u001b[0m\u001b[0m\n",
      "\u001b[0;32m~/opt/anaconda3/lib/python3.8/site-packages/pandas/core/series.py\u001b[0m in \u001b[0;36m_get_value\u001b[0;34m(self, label, takeable)\u001b[0m\n\u001b[1;32m    959\u001b[0m \u001b[0;34m\u001b[0m\u001b[0m\n\u001b[1;32m    960\u001b[0m         \u001b[0;31m# Similar to Index.get_value, but we do not fall back to positional\u001b[0m\u001b[0;34m\u001b[0m\u001b[0;34m\u001b[0m\u001b[0;34m\u001b[0m\u001b[0m\n\u001b[0;32m--> 961\u001b[0;31m         \u001b[0mloc\u001b[0m \u001b[0;34m=\u001b[0m \u001b[0mself\u001b[0m\u001b[0;34m.\u001b[0m\u001b[0mindex\u001b[0m\u001b[0;34m.\u001b[0m\u001b[0mget_loc\u001b[0m\u001b[0;34m(\u001b[0m\u001b[0mlabel\u001b[0m\u001b[0;34m)\u001b[0m\u001b[0;34m\u001b[0m\u001b[0;34m\u001b[0m\u001b[0m\n\u001b[0m\u001b[1;32m    962\u001b[0m         \u001b[0;32mreturn\u001b[0m \u001b[0mself\u001b[0m\u001b[0;34m.\u001b[0m\u001b[0mindex\u001b[0m\u001b[0;34m.\u001b[0m\u001b[0m_get_values_for_loc\u001b[0m\u001b[0;34m(\u001b[0m\u001b[0mself\u001b[0m\u001b[0;34m,\u001b[0m \u001b[0mloc\u001b[0m\u001b[0;34m,\u001b[0m \u001b[0mlabel\u001b[0m\u001b[0;34m)\u001b[0m\u001b[0;34m\u001b[0m\u001b[0;34m\u001b[0m\u001b[0m\n\u001b[1;32m    963\u001b[0m \u001b[0;34m\u001b[0m\u001b[0m\n",
      "\u001b[0;32m~/opt/anaconda3/lib/python3.8/site-packages/pandas/core/indexes/base.py\u001b[0m in \u001b[0;36mget_loc\u001b[0;34m(self, key, method, tolerance)\u001b[0m\n\u001b[1;32m   3080\u001b[0m                 \u001b[0;32mreturn\u001b[0m \u001b[0mself\u001b[0m\u001b[0;34m.\u001b[0m\u001b[0m_engine\u001b[0m\u001b[0;34m.\u001b[0m\u001b[0mget_loc\u001b[0m\u001b[0;34m(\u001b[0m\u001b[0mcasted_key\u001b[0m\u001b[0;34m)\u001b[0m\u001b[0;34m\u001b[0m\u001b[0;34m\u001b[0m\u001b[0m\n\u001b[1;32m   3081\u001b[0m             \u001b[0;32mexcept\u001b[0m \u001b[0mKeyError\u001b[0m \u001b[0;32mas\u001b[0m \u001b[0merr\u001b[0m\u001b[0;34m:\u001b[0m\u001b[0;34m\u001b[0m\u001b[0;34m\u001b[0m\u001b[0m\n\u001b[0;32m-> 3082\u001b[0;31m                 \u001b[0;32mraise\u001b[0m \u001b[0mKeyError\u001b[0m\u001b[0;34m(\u001b[0m\u001b[0mkey\u001b[0m\u001b[0;34m)\u001b[0m \u001b[0;32mfrom\u001b[0m \u001b[0merr\u001b[0m\u001b[0;34m\u001b[0m\u001b[0;34m\u001b[0m\u001b[0m\n\u001b[0m\u001b[1;32m   3083\u001b[0m \u001b[0;34m\u001b[0m\u001b[0m\n\u001b[1;32m   3084\u001b[0m         \u001b[0;32mif\u001b[0m \u001b[0mtolerance\u001b[0m \u001b[0;32mis\u001b[0m \u001b[0;32mnot\u001b[0m \u001b[0;32mNone\u001b[0m\u001b[0;34m:\u001b[0m\u001b[0;34m\u001b[0m\u001b[0;34m\u001b[0m\u001b[0m\n",
      "\u001b[0;31mKeyError\u001b[0m: 'academic_id'"
     ]
    }
   ],
   "source": [
    "print(\"MATCH (p:PERSON {academic_id:'\" + row['academic_id'] +\"'}), (a:ACADEMICS {academic_id:'\" + row['academic_id'] + \"'}) CREATE (p)-[:WORKS_AT]->(a)\")"
   ]
  },
  {
   "cell_type": "code",
   "execution_count": 111,
   "id": "f4242661",
   "metadata": {},
   "outputs": [
    {
     "ename": "SyntaxError",
     "evalue": "EOL while scanning string literal (<ipython-input-111-66828348f0a5>, line 1)",
     "output_type": "error",
     "traceback": [
      "\u001b[0;36m  File \u001b[0;32m\"<ipython-input-111-66828348f0a5>\"\u001b[0;36m, line \u001b[0;32m1\u001b[0m\n\u001b[0;31m    MajorIn = Relationship.type(\"MAJOR_IN)\u001b[0m\n\u001b[0m                                          ^\u001b[0m\n\u001b[0;31mSyntaxError\u001b[0m\u001b[0;31m:\u001b[0m EOL while scanning string literal\n"
     ]
    }
   ],
   "source": []
  },
  {
   "cell_type": "code",
   "execution_count": null,
   "id": "9cd4a5c5",
   "metadata": {},
   "outputs": [],
   "source": []
  }
 ],
 "metadata": {
  "kernelspec": {
   "display_name": "Python 3",
   "language": "python",
   "name": "python3"
  },
  "language_info": {
   "codemirror_mode": {
    "name": "ipython",
    "version": 3
   },
   "file_extension": ".py",
   "mimetype": "text/x-python",
   "name": "python",
   "nbconvert_exporter": "python",
   "pygments_lexer": "ipython3",
   "version": "3.8.8"
  }
 },
 "nbformat": 4,
 "nbformat_minor": 5
}
